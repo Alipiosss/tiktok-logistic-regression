{
  "cells": [
    {
      "cell_type": "markdown",
      "metadata": {
        "id": "DtNBZFHO3M7n"
      },
      "source": [
        "# **TikTok Project**\n",
        "**Regression Analysis**"
      ]
    },
    {
      "cell_type": "code",
      "execution_count": null,
      "metadata": {
        "id": "OEgbF-6wHe51",
        "outputId": "8c7d5945-6361-4f24-cdae-fca6e6a11258"
      },
      "outputs": [
        {
          "name": "stdout",
          "output_type": "stream",
          "text": [
            "Python version:  3.11.4\n",
            "numpy version:  1.24.4\n",
            "pandas version:  2.0.3\n",
            "statsmodels version:  0.14.0\n"
          ]
        }
      ],
      "source": [
        "import numpy as np\n",
        "import pandas as pd\n",
        "import platform\n",
        "import statsmodels\n",
        "print('Python version: ', platform.python_version())\n",
        "print('numpy version: ', np.__version__)\n",
        "print('pandas version: ', pd.__version__)\n",
        "print('statsmodels version: ', statsmodels.__version__)"
      ]
    },
    {
      "cell_type": "markdown",
      "metadata": {
        "id": "rgSbVJvomcVa"
      },
      "source": [
        "## 📘 Course 5 Final Project: Logistic Regression and Model Evaluation\n",
        "\n",
        "This final project for Course 5 focuses on applying the concepts of **exploratory data analysis (EDA)** and **regression modeling**, specifically **logistic regression in Python**.\n",
        "\n",
        "Logistic regression allows us to estimate the **probability of a specific outcome** while considering multiple independent variables. This technique is highly valuable in data science as it enables more robust and flexible data analysis.\n",
        "\n",
        "\n",
        "### 🎯 Project Objective\n",
        "\n",
        "The goal is to build and evaluate a logistic regression model using realistic data, demonstrating the following skills:\n",
        "\n",
        "- Performing EDA and preparing data\n",
        "- Verifying model assumptions\n",
        "- Constructing and evaluating the model\n",
        "- Interpreting results and communicating findings\n",
        "\n",
        "\n",
        "### 📌 Project Structure\n",
        "\n",
        "This activity is divided into **three main parts**:\n",
        "\n",
        "**🔹 Part 1: EDA and Checking Assumptions**  \n",
        "- Explore the dataset to identify key variables, missing values, outliers, and correlations  \n",
        "- Clean and prepare the data to ensure logistic regression assumptions are met  \n",
        "\n",
        "**🔹 Part 2: Model Building and Evaluation**  \n",
        "- Build the logistic regression model  \n",
        "- Evaluate its performance using accuracy, precision, recall, F1-score, and the confusion matrix  \n",
        "\n",
        "**🔹 Part 3: Interpreting Model Results**  \n",
        "- Analyze model coefficients to understand the effect of each feature  \n",
        "- Extract actionable insights  \n",
        "- Provide recommendations based on the analysis  \n",
        "\n",
        "\n",
        "### 📄 Deliverable\n",
        "\n",
        "The final deliverable includes a working logistic regression model and an **executive summary** based on the **PACE strategy questions**, written for a leadership audience. The summary focuses on practical insights and business implications derived from the model's results.\n"
      ]
    },
    {
      "cell_type": "markdown",
      "metadata": {
        "id": "7KFOyc3JPSiN"
      },
      "source": [
        "# **Build a regression model**"
      ]
    },
    {
      "cell_type": "markdown",
      "metadata": {
        "id": "3UCHQclzQDUL"
      },
      "source": [
        "# **PACE stages**"
      ]
    },
    {
      "cell_type": "markdown",
      "metadata": {
        "id": "VJfAWkcilRVx"
      },
      "source": [
        "Throughout these project notebooks, you'll see references to the problem-solving framework PACE. The following notebook components are labeled with the respective PACE stage: Plan, Analyze, Construct, and Execute."
      ]
    },
    {
      "cell_type": "markdown",
      "metadata": {
        "id": "F5O5cx_qQJmX"
      },
      "source": [
        "## **PACE: Plan**"
      ]
    },
    {
      "cell_type": "markdown",
      "metadata": {
        "id": "D8qYlvkLQsf2"
      },
      "source": [
        "### **Task 1. Imports and loading**"
      ]
    },
    {
      "cell_type": "code",
      "execution_count": null,
      "metadata": {
        "id": "tCni9wAGphb0"
      },
      "outputs": [],
      "source": [
        "# Import packages for data manipulation\n",
        "import pandas as pd\n",
        "import numpy as np\n",
        "\n",
        "# Import packages for data visualization\n",
        "import matplotlib.pyplot as plt\n",
        "import seaborn as sns\n",
        "\n",
        "# Import packages for data preprocessing\n",
        "from sklearn.preprocessing import OneHotEncoder\n",
        "from sklearn.feature_extraction.text import CountVectorizer, TfidfVectorizer\n",
        "from sklearn.utils import resample\n",
        "\n",
        "# Import packages for data modeling\n",
        "from sklearn.model_selection import train_test_split\n",
        "from sklearn.linear_model import LogisticRegression\n",
        "from sklearn.metrics import classification_report\n",
        "from sklearn.metrics import confusion_matrix, ConfusionMatrixDisplay\n"
      ]
    },
    {
      "cell_type": "code",
      "execution_count": null,
      "metadata": {
        "id": "C9ODhaOppqlw"
      },
      "outputs": [],
      "source": [
        "# Load dataset into dataframe\n",
        "data = pd.read_csv(\"tiktok_dataset.csv\")"
      ]
    },
    {
      "cell_type": "markdown",
      "metadata": {
        "id": "OnrvCSfHUWPv"
      },
      "source": [
        "## **PACE: Analyze**"
      ]
    },
    {
      "cell_type": "markdown",
      "metadata": {
        "id": "FZA0zpCSpYIL"
      },
      "source": [
        "Exploratory Data Analysis (EDA) is a critical step before constructing a logistic regression model because it helps you understand the structure, quality, and characteristics of the dataset. The main purposes of EDA include identifying and handling missing or inconsistent values, exploring the distribution of variables—especially the target variable (verified_status), detecting class imbalances, examining relationships between variables to avoid multicollinearity, and identifying potential outliers that could distort the model. EDA also allows you to gain initial insights into how independent variables might be related to the outcome, which supports effective feature selection. These steps ensure the logistic regression model is accurate, interpretable, and reliable."
      ]
    },
    {
      "cell_type": "markdown",
      "metadata": {
        "id": "rIcDG2e66wt9"
      },
      "source": [
        "### **Task 2a. Explore data with EDA**"
      ]
    },
    {
      "cell_type": "code",
      "execution_count": null,
      "metadata": {
        "id": "2rfk95MLp4a_",
        "outputId": "c1ed0123-1b26-44bb-d667-253029b5e926"
      },
      "outputs": [
        {
          "data": {
            "text/html": [
              "<div>\n",
              "<style scoped>\n",
              "    .dataframe tbody tr th:only-of-type {\n",
              "        vertical-align: middle;\n",
              "    }\n",
              "\n",
              "    .dataframe tbody tr th {\n",
              "        vertical-align: top;\n",
              "    }\n",
              "\n",
              "    .dataframe thead th {\n",
              "        text-align: right;\n",
              "    }\n",
              "</style>\n",
              "<table border=\"1\" class=\"dataframe\">\n",
              "  <thead>\n",
              "    <tr style=\"text-align: right;\">\n",
              "      <th></th>\n",
              "      <th>#</th>\n",
              "      <th>claim_status</th>\n",
              "      <th>video_id</th>\n",
              "      <th>video_duration_sec</th>\n",
              "      <th>video_transcription_text</th>\n",
              "      <th>verified_status</th>\n",
              "      <th>author_ban_status</th>\n",
              "      <th>video_view_count</th>\n",
              "      <th>video_like_count</th>\n",
              "      <th>video_share_count</th>\n",
              "      <th>video_download_count</th>\n",
              "      <th>video_comment_count</th>\n",
              "    </tr>\n",
              "  </thead>\n",
              "  <tbody>\n",
              "    <tr>\n",
              "      <th>0</th>\n",
              "      <td>1</td>\n",
              "      <td>claim</td>\n",
              "      <td>7017666017</td>\n",
              "      <td>59</td>\n",
              "      <td>someone shared with me that drone deliveries a...</td>\n",
              "      <td>not verified</td>\n",
              "      <td>under review</td>\n",
              "      <td>343296.0</td>\n",
              "      <td>19425.0</td>\n",
              "      <td>241.0</td>\n",
              "      <td>1.0</td>\n",
              "      <td>0.0</td>\n",
              "    </tr>\n",
              "    <tr>\n",
              "      <th>1</th>\n",
              "      <td>2</td>\n",
              "      <td>claim</td>\n",
              "      <td>4014381136</td>\n",
              "      <td>32</td>\n",
              "      <td>someone shared with me that there are more mic...</td>\n",
              "      <td>not verified</td>\n",
              "      <td>active</td>\n",
              "      <td>140877.0</td>\n",
              "      <td>77355.0</td>\n",
              "      <td>19034.0</td>\n",
              "      <td>1161.0</td>\n",
              "      <td>684.0</td>\n",
              "    </tr>\n",
              "    <tr>\n",
              "      <th>2</th>\n",
              "      <td>3</td>\n",
              "      <td>claim</td>\n",
              "      <td>9859838091</td>\n",
              "      <td>31</td>\n",
              "      <td>someone shared with me that american industria...</td>\n",
              "      <td>not verified</td>\n",
              "      <td>active</td>\n",
              "      <td>902185.0</td>\n",
              "      <td>97690.0</td>\n",
              "      <td>2858.0</td>\n",
              "      <td>833.0</td>\n",
              "      <td>329.0</td>\n",
              "    </tr>\n",
              "    <tr>\n",
              "      <th>3</th>\n",
              "      <td>4</td>\n",
              "      <td>claim</td>\n",
              "      <td>1866847991</td>\n",
              "      <td>25</td>\n",
              "      <td>someone shared with me that the metro of st. p...</td>\n",
              "      <td>not verified</td>\n",
              "      <td>active</td>\n",
              "      <td>437506.0</td>\n",
              "      <td>239954.0</td>\n",
              "      <td>34812.0</td>\n",
              "      <td>1234.0</td>\n",
              "      <td>584.0</td>\n",
              "    </tr>\n",
              "    <tr>\n",
              "      <th>4</th>\n",
              "      <td>5</td>\n",
              "      <td>claim</td>\n",
              "      <td>7105231098</td>\n",
              "      <td>19</td>\n",
              "      <td>someone shared with me that the number of busi...</td>\n",
              "      <td>not verified</td>\n",
              "      <td>active</td>\n",
              "      <td>56167.0</td>\n",
              "      <td>34987.0</td>\n",
              "      <td>4110.0</td>\n",
              "      <td>547.0</td>\n",
              "      <td>152.0</td>\n",
              "    </tr>\n",
              "  </tbody>\n",
              "</table>\n",
              "</div>"
            ],
            "text/plain": [
              "   # claim_status    video_id  video_duration_sec  \\\n",
              "0  1        claim  7017666017                  59   \n",
              "1  2        claim  4014381136                  32   \n",
              "2  3        claim  9859838091                  31   \n",
              "3  4        claim  1866847991                  25   \n",
              "4  5        claim  7105231098                  19   \n",
              "\n",
              "                            video_transcription_text verified_status  \\\n",
              "0  someone shared with me that drone deliveries a...    not verified   \n",
              "1  someone shared with me that there are more mic...    not verified   \n",
              "2  someone shared with me that american industria...    not verified   \n",
              "3  someone shared with me that the metro of st. p...    not verified   \n",
              "4  someone shared with me that the number of busi...    not verified   \n",
              "\n",
              "  author_ban_status  video_view_count  video_like_count  video_share_count  \\\n",
              "0      under review          343296.0           19425.0              241.0   \n",
              "1            active          140877.0           77355.0            19034.0   \n",
              "2            active          902185.0           97690.0             2858.0   \n",
              "3            active          437506.0          239954.0            34812.0   \n",
              "4            active           56167.0           34987.0             4110.0   \n",
              "\n",
              "   video_download_count  video_comment_count  \n",
              "0                   1.0                  0.0  \n",
              "1                1161.0                684.0  \n",
              "2                 833.0                329.0  \n",
              "3                1234.0                584.0  \n",
              "4                 547.0                152.0  "
            ]
          },
          "execution_count": 4,
          "metadata": {},
          "output_type": "execute_result"
        }
      ],
      "source": [
        "# Display first few rows\n",
        "data.head()\n"
      ]
    },
    {
      "cell_type": "code",
      "execution_count": null,
      "metadata": {
        "id": "kYwW-G1WqX3R",
        "outputId": "a4d8a142-7a8e-4539-8eff-318d3fef241d"
      },
      "outputs": [
        {
          "data": {
            "text/plain": [
              "(19382, 12)"
            ]
          },
          "execution_count": 5,
          "metadata": {},
          "output_type": "execute_result"
        }
      ],
      "source": [
        "# Get number of rows and columns\n",
        "data.shape\n"
      ]
    },
    {
      "cell_type": "code",
      "execution_count": null,
      "metadata": {
        "id": "rbpDgrXfEoVj",
        "outputId": "bbfddc60-2d8f-4bc1-d821-065fcf2a844f"
      },
      "outputs": [
        {
          "data": {
            "text/plain": [
              "#                             int64\n",
              "claim_status                 object\n",
              "video_id                      int64\n",
              "video_duration_sec            int64\n",
              "video_transcription_text     object\n",
              "verified_status              object\n",
              "author_ban_status            object\n",
              "video_view_count            float64\n",
              "video_like_count            float64\n",
              "video_share_count           float64\n",
              "video_download_count        float64\n",
              "video_comment_count         float64\n",
              "dtype: object"
            ]
          },
          "execution_count": 6,
          "metadata": {},
          "output_type": "execute_result"
        }
      ],
      "source": [
        "# Get data types of columns\n",
        "data.dtypes\n"
      ]
    },
    {
      "cell_type": "code",
      "execution_count": null,
      "metadata": {
        "id": "zyyKCGzCp7SS",
        "outputId": "702a78a9-8a79-487c-8967-63f864eb3cd3"
      },
      "outputs": [
        {
          "name": "stdout",
          "output_type": "stream",
          "text": [
            "<class 'pandas.core.frame.DataFrame'>\n",
            "RangeIndex: 19382 entries, 0 to 19381\n",
            "Data columns (total 12 columns):\n",
            " #   Column                    Non-Null Count  Dtype  \n",
            "---  ------                    --------------  -----  \n",
            " 0   #                         19382 non-null  int64  \n",
            " 1   claim_status              19084 non-null  object \n",
            " 2   video_id                  19382 non-null  int64  \n",
            " 3   video_duration_sec        19382 non-null  int64  \n",
            " 4   video_transcription_text  19084 non-null  object \n",
            " 5   verified_status           19382 non-null  object \n",
            " 6   author_ban_status         19382 non-null  object \n",
            " 7   video_view_count          19084 non-null  float64\n",
            " 8   video_like_count          19084 non-null  float64\n",
            " 9   video_share_count         19084 non-null  float64\n",
            " 10  video_download_count      19084 non-null  float64\n",
            " 11  video_comment_count       19084 non-null  float64\n",
            "dtypes: float64(5), int64(3), object(4)\n",
            "memory usage: 1.8+ MB\n"
          ]
        }
      ],
      "source": [
        "# Get basic information\n",
        "data.info()\n"
      ]
    },
    {
      "cell_type": "code",
      "execution_count": null,
      "metadata": {
        "id": "HbpuAS2UqY01",
        "outputId": "5af0e4a6-4729-4eff-fad4-45a8169a1a41"
      },
      "outputs": [
        {
          "data": {
            "text/html": [
              "<div>\n",
              "<style scoped>\n",
              "    .dataframe tbody tr th:only-of-type {\n",
              "        vertical-align: middle;\n",
              "    }\n",
              "\n",
              "    .dataframe tbody tr th {\n",
              "        vertical-align: top;\n",
              "    }\n",
              "\n",
              "    .dataframe thead th {\n",
              "        text-align: right;\n",
              "    }\n",
              "</style>\n",
              "<table border=\"1\" class=\"dataframe\">\n",
              "  <thead>\n",
              "    <tr style=\"text-align: right;\">\n",
              "      <th></th>\n",
              "      <th>#</th>\n",
              "      <th>video_id</th>\n",
              "      <th>video_duration_sec</th>\n",
              "      <th>video_view_count</th>\n",
              "      <th>video_like_count</th>\n",
              "      <th>video_share_count</th>\n",
              "      <th>video_download_count</th>\n",
              "      <th>video_comment_count</th>\n",
              "    </tr>\n",
              "  </thead>\n",
              "  <tbody>\n",
              "    <tr>\n",
              "      <th>count</th>\n",
              "      <td>19382.000000</td>\n",
              "      <td>1.938200e+04</td>\n",
              "      <td>19382.000000</td>\n",
              "      <td>19084.000000</td>\n",
              "      <td>19084.000000</td>\n",
              "      <td>19084.000000</td>\n",
              "      <td>19084.000000</td>\n",
              "      <td>19084.000000</td>\n",
              "    </tr>\n",
              "    <tr>\n",
              "      <th>mean</th>\n",
              "      <td>9691.500000</td>\n",
              "      <td>5.627454e+09</td>\n",
              "      <td>32.421732</td>\n",
              "      <td>254708.558688</td>\n",
              "      <td>84304.636030</td>\n",
              "      <td>16735.248323</td>\n",
              "      <td>1049.429627</td>\n",
              "      <td>349.312146</td>\n",
              "    </tr>\n",
              "    <tr>\n",
              "      <th>std</th>\n",
              "      <td>5595.245794</td>\n",
              "      <td>2.536440e+09</td>\n",
              "      <td>16.229967</td>\n",
              "      <td>322893.280814</td>\n",
              "      <td>133420.546814</td>\n",
              "      <td>32036.174350</td>\n",
              "      <td>2004.299894</td>\n",
              "      <td>799.638865</td>\n",
              "    </tr>\n",
              "    <tr>\n",
              "      <th>min</th>\n",
              "      <td>1.000000</td>\n",
              "      <td>1.234959e+09</td>\n",
              "      <td>5.000000</td>\n",
              "      <td>20.000000</td>\n",
              "      <td>0.000000</td>\n",
              "      <td>0.000000</td>\n",
              "      <td>0.000000</td>\n",
              "      <td>0.000000</td>\n",
              "    </tr>\n",
              "    <tr>\n",
              "      <th>25%</th>\n",
              "      <td>4846.250000</td>\n",
              "      <td>3.430417e+09</td>\n",
              "      <td>18.000000</td>\n",
              "      <td>4942.500000</td>\n",
              "      <td>810.750000</td>\n",
              "      <td>115.000000</td>\n",
              "      <td>7.000000</td>\n",
              "      <td>1.000000</td>\n",
              "    </tr>\n",
              "    <tr>\n",
              "      <th>50%</th>\n",
              "      <td>9691.500000</td>\n",
              "      <td>5.618664e+09</td>\n",
              "      <td>32.000000</td>\n",
              "      <td>9954.500000</td>\n",
              "      <td>3403.500000</td>\n",
              "      <td>717.000000</td>\n",
              "      <td>46.000000</td>\n",
              "      <td>9.000000</td>\n",
              "    </tr>\n",
              "    <tr>\n",
              "      <th>75%</th>\n",
              "      <td>14536.750000</td>\n",
              "      <td>7.843960e+09</td>\n",
              "      <td>47.000000</td>\n",
              "      <td>504327.000000</td>\n",
              "      <td>125020.000000</td>\n",
              "      <td>18222.000000</td>\n",
              "      <td>1156.250000</td>\n",
              "      <td>292.000000</td>\n",
              "    </tr>\n",
              "    <tr>\n",
              "      <th>max</th>\n",
              "      <td>19382.000000</td>\n",
              "      <td>9.999873e+09</td>\n",
              "      <td>60.000000</td>\n",
              "      <td>999817.000000</td>\n",
              "      <td>657830.000000</td>\n",
              "      <td>256130.000000</td>\n",
              "      <td>14994.000000</td>\n",
              "      <td>9599.000000</td>\n",
              "    </tr>\n",
              "  </tbody>\n",
              "</table>\n",
              "</div>"
            ],
            "text/plain": [
              "                  #      video_id  video_duration_sec  video_view_count  \\\n",
              "count  19382.000000  1.938200e+04        19382.000000      19084.000000   \n",
              "mean    9691.500000  5.627454e+09           32.421732     254708.558688   \n",
              "std     5595.245794  2.536440e+09           16.229967     322893.280814   \n",
              "min        1.000000  1.234959e+09            5.000000         20.000000   \n",
              "25%     4846.250000  3.430417e+09           18.000000       4942.500000   \n",
              "50%     9691.500000  5.618664e+09           32.000000       9954.500000   \n",
              "75%    14536.750000  7.843960e+09           47.000000     504327.000000   \n",
              "max    19382.000000  9.999873e+09           60.000000     999817.000000   \n",
              "\n",
              "       video_like_count  video_share_count  video_download_count  \\\n",
              "count      19084.000000       19084.000000          19084.000000   \n",
              "mean       84304.636030       16735.248323           1049.429627   \n",
              "std       133420.546814       32036.174350           2004.299894   \n",
              "min            0.000000           0.000000              0.000000   \n",
              "25%          810.750000         115.000000              7.000000   \n",
              "50%         3403.500000         717.000000             46.000000   \n",
              "75%       125020.000000       18222.000000           1156.250000   \n",
              "max       657830.000000      256130.000000          14994.000000   \n",
              "\n",
              "       video_comment_count  \n",
              "count         19084.000000  \n",
              "mean            349.312146  \n",
              "std             799.638865  \n",
              "min               0.000000  \n",
              "25%               1.000000  \n",
              "50%               9.000000  \n",
              "75%             292.000000  \n",
              "max            9599.000000  "
            ]
          },
          "execution_count": 8,
          "metadata": {},
          "output_type": "execute_result"
        }
      ],
      "source": [
        "# Generate basic descriptive stats\n",
        "data.describe()\n"
      ]
    },
    {
      "cell_type": "code",
      "execution_count": null,
      "metadata": {
        "id": "BrunHcfa7xnT",
        "outputId": "01d62411-8748-4455-bd88-361c4bc46102"
      },
      "outputs": [
        {
          "data": {
            "text/plain": [
              "#                             0\n",
              "claim_status                298\n",
              "video_id                      0\n",
              "video_duration_sec            0\n",
              "video_transcription_text    298\n",
              "verified_status               0\n",
              "author_ban_status             0\n",
              "video_view_count            298\n",
              "video_like_count            298\n",
              "video_share_count           298\n",
              "video_download_count        298\n",
              "video_comment_count         298\n",
              "dtype: int64"
            ]
          },
          "execution_count": 9,
          "metadata": {},
          "output_type": "execute_result"
        }
      ],
      "source": [
        "# Check for missing values\n",
        "data.isnull().sum()\n"
      ]
    },
    {
      "cell_type": "code",
      "execution_count": null,
      "metadata": {
        "id": "SHSj1Hma914I"
      },
      "outputs": [],
      "source": [
        "# Remove rows with missing values\n",
        "data_clean = data.dropna()"
      ]
    },
    {
      "cell_type": "code",
      "execution_count": null,
      "metadata": {
        "id": "ZYUF3xap9_Fa",
        "outputId": "fd34a848-59d3-419d-bb0b-bcc9a70a1961"
      },
      "outputs": [
        {
          "data": {
            "text/html": [
              "<div>\n",
              "<style scoped>\n",
              "    .dataframe tbody tr th:only-of-type {\n",
              "        vertical-align: middle;\n",
              "    }\n",
              "\n",
              "    .dataframe tbody tr th {\n",
              "        vertical-align: top;\n",
              "    }\n",
              "\n",
              "    .dataframe thead th {\n",
              "        text-align: right;\n",
              "    }\n",
              "</style>\n",
              "<table border=\"1\" class=\"dataframe\">\n",
              "  <thead>\n",
              "    <tr style=\"text-align: right;\">\n",
              "      <th></th>\n",
              "      <th>#</th>\n",
              "      <th>claim_status</th>\n",
              "      <th>video_id</th>\n",
              "      <th>video_duration_sec</th>\n",
              "      <th>video_transcription_text</th>\n",
              "      <th>verified_status</th>\n",
              "      <th>author_ban_status</th>\n",
              "      <th>video_view_count</th>\n",
              "      <th>video_like_count</th>\n",
              "      <th>video_share_count</th>\n",
              "      <th>video_download_count</th>\n",
              "      <th>video_comment_count</th>\n",
              "    </tr>\n",
              "  </thead>\n",
              "  <tbody>\n",
              "    <tr>\n",
              "      <th>0</th>\n",
              "      <td>1</td>\n",
              "      <td>claim</td>\n",
              "      <td>7017666017</td>\n",
              "      <td>59</td>\n",
              "      <td>someone shared with me that drone deliveries a...</td>\n",
              "      <td>not verified</td>\n",
              "      <td>under review</td>\n",
              "      <td>343296.0</td>\n",
              "      <td>19425.0</td>\n",
              "      <td>241.0</td>\n",
              "      <td>1.0</td>\n",
              "      <td>0.0</td>\n",
              "    </tr>\n",
              "    <tr>\n",
              "      <th>1</th>\n",
              "      <td>2</td>\n",
              "      <td>claim</td>\n",
              "      <td>4014381136</td>\n",
              "      <td>32</td>\n",
              "      <td>someone shared with me that there are more mic...</td>\n",
              "      <td>not verified</td>\n",
              "      <td>active</td>\n",
              "      <td>140877.0</td>\n",
              "      <td>77355.0</td>\n",
              "      <td>19034.0</td>\n",
              "      <td>1161.0</td>\n",
              "      <td>684.0</td>\n",
              "    </tr>\n",
              "    <tr>\n",
              "      <th>2</th>\n",
              "      <td>3</td>\n",
              "      <td>claim</td>\n",
              "      <td>9859838091</td>\n",
              "      <td>31</td>\n",
              "      <td>someone shared with me that american industria...</td>\n",
              "      <td>not verified</td>\n",
              "      <td>active</td>\n",
              "      <td>902185.0</td>\n",
              "      <td>97690.0</td>\n",
              "      <td>2858.0</td>\n",
              "      <td>833.0</td>\n",
              "      <td>329.0</td>\n",
              "    </tr>\n",
              "    <tr>\n",
              "      <th>3</th>\n",
              "      <td>4</td>\n",
              "      <td>claim</td>\n",
              "      <td>1866847991</td>\n",
              "      <td>25</td>\n",
              "      <td>someone shared with me that the metro of st. p...</td>\n",
              "      <td>not verified</td>\n",
              "      <td>active</td>\n",
              "      <td>437506.0</td>\n",
              "      <td>239954.0</td>\n",
              "      <td>34812.0</td>\n",
              "      <td>1234.0</td>\n",
              "      <td>584.0</td>\n",
              "    </tr>\n",
              "    <tr>\n",
              "      <th>4</th>\n",
              "      <td>5</td>\n",
              "      <td>claim</td>\n",
              "      <td>7105231098</td>\n",
              "      <td>19</td>\n",
              "      <td>someone shared with me that the number of busi...</td>\n",
              "      <td>not verified</td>\n",
              "      <td>active</td>\n",
              "      <td>56167.0</td>\n",
              "      <td>34987.0</td>\n",
              "      <td>4110.0</td>\n",
              "      <td>547.0</td>\n",
              "      <td>152.0</td>\n",
              "    </tr>\n",
              "  </tbody>\n",
              "</table>\n",
              "</div>"
            ],
            "text/plain": [
              "   # claim_status    video_id  video_duration_sec  \\\n",
              "0  1        claim  7017666017                  59   \n",
              "1  2        claim  4014381136                  32   \n",
              "2  3        claim  9859838091                  31   \n",
              "3  4        claim  1866847991                  25   \n",
              "4  5        claim  7105231098                  19   \n",
              "\n",
              "                            video_transcription_text verified_status  \\\n",
              "0  someone shared with me that drone deliveries a...    not verified   \n",
              "1  someone shared with me that there are more mic...    not verified   \n",
              "2  someone shared with me that american industria...    not verified   \n",
              "3  someone shared with me that the metro of st. p...    not verified   \n",
              "4  someone shared with me that the number of busi...    not verified   \n",
              "\n",
              "  author_ban_status  video_view_count  video_like_count  video_share_count  \\\n",
              "0      under review          343296.0           19425.0              241.0   \n",
              "1            active          140877.0           77355.0            19034.0   \n",
              "2            active          902185.0           97690.0             2858.0   \n",
              "3            active          437506.0          239954.0            34812.0   \n",
              "4            active           56167.0           34987.0             4110.0   \n",
              "\n",
              "   video_download_count  video_comment_count  \n",
              "0                   1.0                  0.0  \n",
              "1                1161.0                684.0  \n",
              "2                 833.0                329.0  \n",
              "3                1234.0                584.0  \n",
              "4                 547.0                152.0  "
            ]
          },
          "execution_count": 11,
          "metadata": {},
          "output_type": "execute_result"
        }
      ],
      "source": [
        "# Display first few rows after handling missing values\n",
        "data_clean.head()"
      ]
    },
    {
      "cell_type": "code",
      "execution_count": null,
      "metadata": {
        "id": "IKaGnWIsiHpH",
        "outputId": "930186a5-04f9-413a-daa5-db74cf4adca5"
      },
      "outputs": [
        {
          "data": {
            "text/plain": [
              "0"
            ]
          },
          "execution_count": 12,
          "metadata": {},
          "output_type": "execute_result"
        }
      ],
      "source": [
        "# Check for duplicate rows\n",
        "data_clean.duplicated().sum()\n"
      ]
    },
    {
      "cell_type": "code",
      "execution_count": null,
      "metadata": {
        "id": "Ts_lcV6qUQHq",
        "outputId": "c87c7bee-9758-4ed1-e1d5-232f4862d2f7"
      },
      "outputs": [
        {
          "data": {
            "image/png": "[encoded data removed]",
            "text/plain": [
              "<Figure size 800x400 with 1 Axes>"
            ]
          },
          "metadata": {},
          "output_type": "display_data"
        }
      ],
      "source": [
        "# Create a boxplot to visualize distribution of `video_duration_sec`\n",
        "import seaborn as sns\n",
        "import matplotlib.pyplot as plt\n",
        "\n",
        "plt.figure(figsize=(8, 4))\n",
        "sns.boxplot(x=data_clean['video_duration_sec'])\n",
        "plt.title('Boxplot of Video Duration (in seconds)')\n",
        "plt.xlabel('Video Duration (seconds)')\n",
        "plt.show()\n",
        "\n",
        "\n"
      ]
    },
    {
      "cell_type": "code",
      "execution_count": null,
      "metadata": {
        "id": "qlUccI91a4NH",
        "outputId": "a4d7fe7a-16c8-4f40-dbca-7ba9d5d3a881"
      },
      "outputs": [
        {
          "data": {
            "image/png": "[encoded data removed]",
            "text/plain": [
              "<Figure size 800x400 with 1 Axes>"
            ]
          },
          "metadata": {},
          "output_type": "display_data"
        }
      ],
      "source": [
        "# Create a boxplot to visualize distribution of `video_view_count`\n",
        "plt.figure(figsize=(8, 4))\n",
        "sns.boxplot(x=data_clean['video_view_count'])\n",
        "plt.title('Boxplot of Video View Count')\n",
        "plt.xlabel('Video View Count')\n",
        "plt.show()\n",
        "\n",
        "\n"
      ]
    },
    {
      "cell_type": "code",
      "execution_count": null,
      "metadata": {
        "id": "N0UVdeRUzEEF",
        "outputId": "d8e5b281-58bb-4a06-a35d-53fc7cf06ce6"
      },
      "outputs": [
        {
          "data": {
            "image/png": "[encoded data removed]",
            "text/plain": [
              "<Figure size 800x400 with 1 Axes>"
            ]
          },
          "metadata": {},
          "output_type": "display_data"
        }
      ],
      "source": [
        "# Create a boxplot to visualize distribution of `video_like_count`\n",
        "plt.figure(figsize=(8, 4))\n",
        "sns.boxplot(x=data_clean['video_like_count'])\n",
        "plt.title('Boxplot of Video Like Count')\n",
        "plt.xlabel('Video Like Count')\n",
        "plt.show()\n",
        "\n",
        "\n"
      ]
    },
    {
      "cell_type": "code",
      "execution_count": null,
      "metadata": {
        "id": "-gE1fkGo0eG9",
        "outputId": "aa20761a-ddf0-4099-fe84-1a9424ef24c1"
      },
      "outputs": [
        {
          "data": {
            "image/png": "[encoded data removed]",
            "text/plain": [
              "<Figure size 800x400 with 1 Axes>"
            ]
          },
          "metadata": {},
          "output_type": "display_data"
        }
      ],
      "source": [
        "# Create a boxplot to visualize distribution of `video_comment_count`\n",
        "plt.figure(figsize=(8, 4))\n",
        "sns.boxplot(x=data_clean['video_comment_count'])\n",
        "plt.title('Boxplot of Video Comment Count')\n",
        "plt.xlabel('Video Comment Count')\n",
        "plt.show()\n",
        "\n",
        "\n"
      ]
    },
    {
      "cell_type": "code",
      "execution_count": null,
      "metadata": {
        "id": "hicFRAHYHe58"
      },
      "outputs": [],
      "source": [
        "# Function to apply IQR-based capping for outliers\n",
        "def cap_outliers_iqr(df, column):\n",
        "    # Calculate 1st and 3rd quartiles\n",
        "    q1 = df[column].quantile(0.25)\n",
        "    q3 = df[column].quantile(0.75)\n",
        "\n",
        "    # Calculate interquartile range (IQR)\n",
        "    iqr = q3 - q1\n",
        "\n",
        "    # Define upper limit as Q3 + 1.5 * IQR\n",
        "    upper_limit = q3 + 1.5 * iqr\n",
        "\n",
        "    # Cap values above the upper limit\n",
        "    df.loc[df[column] > upper_limit, column] = upper_limit\n",
        "\n",
        "# Apply the function to skewed variables\n",
        "cap_outliers_iqr(data_clean, \"video_like_count\")\n",
        "cap_outliers_iqr(data_clean, \"video_view_count\")\n",
        "cap_outliers_iqr(data_clean, \"video_comment_count\")\n"
      ]
    },
    {
      "cell_type": "markdown",
      "metadata": {
        "id": "eDcY0ZaEJgDl"
      },
      "source": [
        "Check class balance of the target variable. Remember, the goal is to predict whether the user of a given post is verified or unverified."
      ]
    },
    {
      "cell_type": "code",
      "execution_count": null,
      "metadata": {
        "id": "e3klRqlsJhtp",
        "outputId": "0079a111-5152-4d65-f619-fd258b143a81"
      },
      "outputs": [
        {
          "data": {
            "text/html": [
              "<div>\n",
              "<style scoped>\n",
              "    .dataframe tbody tr th:only-of-type {\n",
              "        vertical-align: middle;\n",
              "    }\n",
              "\n",
              "    .dataframe tbody tr th {\n",
              "        vertical-align: top;\n",
              "    }\n",
              "\n",
              "    .dataframe thead th {\n",
              "        text-align: right;\n",
              "    }\n",
              "</style>\n",
              "<table border=\"1\" class=\"dataframe\">\n",
              "  <thead>\n",
              "    <tr style=\"text-align: right;\">\n",
              "      <th></th>\n",
              "      <th>count</th>\n",
              "      <th>proportion (%)</th>\n",
              "    </tr>\n",
              "    <tr>\n",
              "      <th>verified_status</th>\n",
              "      <th></th>\n",
              "      <th></th>\n",
              "    </tr>\n",
              "  </thead>\n",
              "  <tbody>\n",
              "    <tr>\n",
              "      <th>not verified</th>\n",
              "      <td>17884</td>\n",
              "      <td>93.71201</td>\n",
              "    </tr>\n",
              "    <tr>\n",
              "      <th>verified</th>\n",
              "      <td>1200</td>\n",
              "      <td>6.28799</td>\n",
              "    </tr>\n",
              "  </tbody>\n",
              "</table>\n",
              "</div>"
            ],
            "text/plain": [
              "                 count  proportion (%)\n",
              "verified_status                       \n",
              "not verified     17884        93.71201\n",
              "verified          1200         6.28799"
            ]
          },
          "execution_count": 18,
          "metadata": {},
          "output_type": "execute_result"
        }
      ],
      "source": [
        "# Get both counts and percentages of the target variable\n",
        "class_balance = data_clean['verified_status'].value_counts().to_frame(name='count')\n",
        "class_balance['proportion (%)'] = data_clean['verified_status'].value_counts(normalize=True) * 100\n",
        "class_balance\n"
      ]
    },
    {
      "cell_type": "markdown",
      "metadata": {
        "id": "ePYWt2p5LqlW"
      },
      "source": [
        "Approximately 94.2% of the dataset represents videos posted by unverified accounts and 6.3% represents videos posted by verified accounts. So the outcome variable is not very balanced."
      ]
    },
    {
      "cell_type": "code",
      "execution_count": null,
      "metadata": {
        "id": "AWhetFT3Ggyp",
        "outputId": "ced00dcd-4b66-4225-9775-54f25436df99"
      },
      "outputs": [
        {
          "name": "stdout",
          "output_type": "stream",
          "text": [
            "verified_status\n",
            "not verified    17884\n",
            "verified        17884\n",
            "Name: count, dtype: int64\n"
          ]
        }
      ],
      "source": [
        "from sklearn.utils import resample\n",
        "\n",
        "# Step 1: Separate majority and minority classes\n",
        "data_majority = data_clean[data_clean['verified_status'] == 'not verified']\n",
        "data_minority = data_clean[data_clean['verified_status'] == 'verified']\n",
        "\n",
        "# Step 2: Upsample the minority class (which is \"verified\")\n",
        "data_minority_upsampled = resample(data_minority,\n",
        "                                   replace=True,                  # sample with replacement\n",
        "                                   n_samples=len(data_majority),  # match number of majority class\n",
        "                                   random_state=0)                # reproducible results\n",
        "\n",
        "# Step 3: Combine majority class with upsampled minority class\n",
        "data_upsampled = pd.concat([data_majority, data_minority_upsampled]).reset_index(drop=True)\n",
        "\n",
        "# Step 4: Display new class counts\n",
        "print(data_upsampled['verified_status'].value_counts())\n"
      ]
    },
    {
      "cell_type": "code",
      "execution_count": null,
      "metadata": {
        "id": "w-aaFCPCD88e",
        "outputId": "20dec74f-352d-473f-fe4b-fb30bb6115cd"
      },
      "outputs": [
        {
          "name": "stdout",
          "output_type": "stream",
          "text": [
            "verified_status\n",
            "not verified    89.401141\n",
            "verified        84.569559\n",
            "Name: transcription_length, dtype: float64\n"
          ]
        }
      ],
      "source": [
        "# Create a new column with the length (in characters) of each transcription\n",
        "data_upsampled['transcription_length'] = data_upsampled['video_transcription_text'].apply(len)\n",
        "\n",
        "# Calculate average transcription length by verified status\n",
        "avg_length_by_verified = data_upsampled.groupby('verified_status')['transcription_length'].mean()\n",
        "print(avg_length_by_verified)\n",
        "\n"
      ]
    },
    {
      "cell_type": "code",
      "execution_count": null,
      "metadata": {
        "id": "Vzg0J8UEJ1wx",
        "outputId": "9bba5d5b-4daa-4193-850b-306f0e658257"
      },
      "outputs": [
        {
          "data": {
            "text/html": [
              "<div>\n",
              "<style scoped>\n",
              "    .dataframe tbody tr th:only-of-type {\n",
              "        vertical-align: middle;\n",
              "    }\n",
              "\n",
              "    .dataframe tbody tr th {\n",
              "        vertical-align: top;\n",
              "    }\n",
              "\n",
              "    .dataframe thead th {\n",
              "        text-align: right;\n",
              "    }\n",
              "</style>\n",
              "<table border=\"1\" class=\"dataframe\">\n",
              "  <thead>\n",
              "    <tr style=\"text-align: right;\">\n",
              "      <th></th>\n",
              "      <th>#</th>\n",
              "      <th>claim_status</th>\n",
              "      <th>video_id</th>\n",
              "      <th>video_duration_sec</th>\n",
              "      <th>video_transcription_text</th>\n",
              "      <th>verified_status</th>\n",
              "      <th>author_ban_status</th>\n",
              "      <th>video_view_count</th>\n",
              "      <th>video_like_count</th>\n",
              "      <th>video_share_count</th>\n",
              "      <th>video_download_count</th>\n",
              "      <th>video_comment_count</th>\n",
              "      <th>transcription_length</th>\n",
              "    </tr>\n",
              "  </thead>\n",
              "  <tbody>\n",
              "    <tr>\n",
              "      <th>0</th>\n",
              "      <td>1</td>\n",
              "      <td>claim</td>\n",
              "      <td>7017666017</td>\n",
              "      <td>59</td>\n",
              "      <td>someone shared with me that drone deliveries a...</td>\n",
              "      <td>not verified</td>\n",
              "      <td>under review</td>\n",
              "      <td>343296.0</td>\n",
              "      <td>19425.0</td>\n",
              "      <td>241.0</td>\n",
              "      <td>1.0</td>\n",
              "      <td>0.0</td>\n",
              "      <td>97</td>\n",
              "    </tr>\n",
              "    <tr>\n",
              "      <th>1</th>\n",
              "      <td>2</td>\n",
              "      <td>claim</td>\n",
              "      <td>4014381136</td>\n",
              "      <td>32</td>\n",
              "      <td>someone shared with me that there are more mic...</td>\n",
              "      <td>not verified</td>\n",
              "      <td>active</td>\n",
              "      <td>140877.0</td>\n",
              "      <td>77355.0</td>\n",
              "      <td>19034.0</td>\n",
              "      <td>1161.0</td>\n",
              "      <td>684.0</td>\n",
              "      <td>107</td>\n",
              "    </tr>\n",
              "    <tr>\n",
              "      <th>2</th>\n",
              "      <td>3</td>\n",
              "      <td>claim</td>\n",
              "      <td>9859838091</td>\n",
              "      <td>31</td>\n",
              "      <td>someone shared with me that american industria...</td>\n",
              "      <td>not verified</td>\n",
              "      <td>active</td>\n",
              "      <td>902185.0</td>\n",
              "      <td>97690.0</td>\n",
              "      <td>2858.0</td>\n",
              "      <td>833.0</td>\n",
              "      <td>329.0</td>\n",
              "      <td>137</td>\n",
              "    </tr>\n",
              "    <tr>\n",
              "      <th>3</th>\n",
              "      <td>4</td>\n",
              "      <td>claim</td>\n",
              "      <td>1866847991</td>\n",
              "      <td>25</td>\n",
              "      <td>someone shared with me that the metro of st. p...</td>\n",
              "      <td>not verified</td>\n",
              "      <td>active</td>\n",
              "      <td>437506.0</td>\n",
              "      <td>239954.0</td>\n",
              "      <td>34812.0</td>\n",
              "      <td>1234.0</td>\n",
              "      <td>584.0</td>\n",
              "      <td>131</td>\n",
              "    </tr>\n",
              "    <tr>\n",
              "      <th>4</th>\n",
              "      <td>5</td>\n",
              "      <td>claim</td>\n",
              "      <td>7105231098</td>\n",
              "      <td>19</td>\n",
              "      <td>someone shared with me that the number of busi...</td>\n",
              "      <td>not verified</td>\n",
              "      <td>active</td>\n",
              "      <td>56167.0</td>\n",
              "      <td>34987.0</td>\n",
              "      <td>4110.0</td>\n",
              "      <td>547.0</td>\n",
              "      <td>152.0</td>\n",
              "      <td>128</td>\n",
              "    </tr>\n",
              "  </tbody>\n",
              "</table>\n",
              "</div>"
            ],
            "text/plain": [
              "   # claim_status    video_id  video_duration_sec  \\\n",
              "0  1        claim  7017666017                  59   \n",
              "1  2        claim  4014381136                  32   \n",
              "2  3        claim  9859838091                  31   \n",
              "3  4        claim  1866847991                  25   \n",
              "4  5        claim  7105231098                  19   \n",
              "\n",
              "                            video_transcription_text verified_status  \\\n",
              "0  someone shared with me that drone deliveries a...    not verified   \n",
              "1  someone shared with me that there are more mic...    not verified   \n",
              "2  someone shared with me that american industria...    not verified   \n",
              "3  someone shared with me that the metro of st. p...    not verified   \n",
              "4  someone shared with me that the number of busi...    not verified   \n",
              "\n",
              "  author_ban_status  video_view_count  video_like_count  video_share_count  \\\n",
              "0      under review          343296.0           19425.0              241.0   \n",
              "1            active          140877.0           77355.0            19034.0   \n",
              "2            active          902185.0           97690.0             2858.0   \n",
              "3            active          437506.0          239954.0            34812.0   \n",
              "4            active           56167.0           34987.0             4110.0   \n",
              "\n",
              "   video_download_count  video_comment_count  transcription_length  \n",
              "0                   1.0                  0.0                    97  \n",
              "1                1161.0                684.0                   107  \n",
              "2                 833.0                329.0                   137  \n",
              "3                1234.0                584.0                   131  \n",
              "4                 547.0                152.0                   128  "
            ]
          },
          "execution_count": 21,
          "metadata": {},
          "output_type": "execute_result"
        }
      ],
      "source": [
        "# Display first few rows of dataframe after adding new column\n",
        "data_upsampled.head()\n"
      ]
    },
    {
      "cell_type": "markdown",
      "metadata": {
        "id": "LGu7ipi4AJmP"
      },
      "source": [
        "Visualize the distribution of `video_transcription_text` length for videos posted by verified accounts and videos posted by unverified accounts."
      ]
    },
    {
      "cell_type": "code",
      "execution_count": null,
      "metadata": {
        "id": "MSq136S3TIYe",
        "outputId": "28bf67e4-13be-426c-93a4-e8ea16fe53fd"
      },
      "outputs": [
        {
          "data": {
            "image/png": "[encoded data removed]",
            "text/plain": [
              "<Figure size 1000x500 with 1 Axes>"
            ]
          },
          "metadata": {},
          "output_type": "display_data"
        }
      ],
      "source": [
        "import matplotlib.pyplot as plt\n",
        "\n",
        "# Set up the plot\n",
        "plt.figure(figsize=(10, 5))\n",
        "\n",
        "# Histogram for unverified accounts\n",
        "plt.hist(data_upsampled[data_upsampled['verified_status'] == 'not verified']['transcription_length'],\n",
        "         bins=30, alpha=0.6, label='Not Verified', color='blue')\n",
        "\n",
        "# Histogram for verified accounts\n",
        "plt.hist(data_upsampled[data_upsampled['verified_status'] == 'verified']['transcription_length'],\n",
        "         bins=30, alpha=0.6, label='Verified', color='green')\n",
        "\n",
        "# Plot formatting\n",
        "plt.title('Distribution of Video Transcription Length by Verified Status')\n",
        "plt.xlabel('Transcription Length (characters)')\n",
        "plt.ylabel('Frequency')\n",
        "plt.legend()\n",
        "plt.tight_layout()\n",
        "plt.show()\n",
        "\n"
      ]
    },
    {
      "cell_type": "markdown",
      "metadata": {
        "id": "KlF7ZNSyW0yV"
      },
      "source": [
        "### **Task 2b. Examine correlations**"
      ]
    },
    {
      "cell_type": "code",
      "execution_count": null,
      "metadata": {
        "id": "KCEzE-gwL5gq",
        "outputId": "3366157f-4e82-4c30-e9e1-5f4fbff17233"
      },
      "outputs": [
        {
          "data": {
            "text/html": [
              "<div>\n",
              "<style scoped>\n",
              "    .dataframe tbody tr th:only-of-type {\n",
              "        vertical-align: middle;\n",
              "    }\n",
              "\n",
              "    .dataframe tbody tr th {\n",
              "        vertical-align: top;\n",
              "    }\n",
              "\n",
              "    .dataframe thead th {\n",
              "        text-align: right;\n",
              "    }\n",
              "</style>\n",
              "<table border=\"1\" class=\"dataframe\">\n",
              "  <thead>\n",
              "    <tr style=\"text-align: right;\">\n",
              "      <th></th>\n",
              "      <th>#</th>\n",
              "      <th>video_id</th>\n",
              "      <th>video_duration_sec</th>\n",
              "      <th>video_view_count</th>\n",
              "      <th>video_like_count</th>\n",
              "      <th>video_share_count</th>\n",
              "      <th>video_download_count</th>\n",
              "      <th>video_comment_count</th>\n",
              "      <th>transcription_length</th>\n",
              "    </tr>\n",
              "  </thead>\n",
              "  <tbody>\n",
              "    <tr>\n",
              "      <th>#</th>\n",
              "      <td>1.000000</td>\n",
              "      <td>-0.000853</td>\n",
              "      <td>-0.011729</td>\n",
              "      <td>-0.697007</td>\n",
              "      <td>-0.626385</td>\n",
              "      <td>-0.504015</td>\n",
              "      <td>-0.487096</td>\n",
              "      <td>-0.608773</td>\n",
              "      <td>-0.193677</td>\n",
              "    </tr>\n",
              "    <tr>\n",
              "      <th>video_id</th>\n",
              "      <td>-0.000853</td>\n",
              "      <td>1.000000</td>\n",
              "      <td>0.011859</td>\n",
              "      <td>0.002554</td>\n",
              "      <td>0.005993</td>\n",
              "      <td>0.010515</td>\n",
              "      <td>0.008753</td>\n",
              "      <td>0.012674</td>\n",
              "      <td>-0.007083</td>\n",
              "    </tr>\n",
              "    <tr>\n",
              "      <th>video_duration_sec</th>\n",
              "      <td>-0.011729</td>\n",
              "      <td>0.011859</td>\n",
              "      <td>1.000000</td>\n",
              "      <td>0.013589</td>\n",
              "      <td>0.004494</td>\n",
              "      <td>0.002206</td>\n",
              "      <td>0.003989</td>\n",
              "      <td>-0.001086</td>\n",
              "      <td>-0.002981</td>\n",
              "    </tr>\n",
              "    <tr>\n",
              "      <th>video_view_count</th>\n",
              "      <td>-0.697007</td>\n",
              "      <td>0.002554</td>\n",
              "      <td>0.013589</td>\n",
              "      <td>1.000000</td>\n",
              "      <td>0.856937</td>\n",
              "      <td>0.711313</td>\n",
              "      <td>0.690048</td>\n",
              "      <td>0.748361</td>\n",
              "      <td>0.244693</td>\n",
              "    </tr>\n",
              "    <tr>\n",
              "      <th>video_like_count</th>\n",
              "      <td>-0.626385</td>\n",
              "      <td>0.005993</td>\n",
              "      <td>0.004494</td>\n",
              "      <td>0.856937</td>\n",
              "      <td>1.000000</td>\n",
              "      <td>0.832146</td>\n",
              "      <td>0.805543</td>\n",
              "      <td>0.818032</td>\n",
              "      <td>0.216693</td>\n",
              "    </tr>\n",
              "    <tr>\n",
              "      <th>video_share_count</th>\n",
              "      <td>-0.504015</td>\n",
              "      <td>0.010515</td>\n",
              "      <td>0.002206</td>\n",
              "      <td>0.711313</td>\n",
              "      <td>0.832146</td>\n",
              "      <td>1.000000</td>\n",
              "      <td>0.710117</td>\n",
              "      <td>0.671335</td>\n",
              "      <td>0.171651</td>\n",
              "    </tr>\n",
              "    <tr>\n",
              "      <th>video_download_count</th>\n",
              "      <td>-0.487096</td>\n",
              "      <td>0.008753</td>\n",
              "      <td>0.003989</td>\n",
              "      <td>0.690048</td>\n",
              "      <td>0.805543</td>\n",
              "      <td>0.710117</td>\n",
              "      <td>1.000000</td>\n",
              "      <td>0.793668</td>\n",
              "      <td>0.173396</td>\n",
              "    </tr>\n",
              "    <tr>\n",
              "      <th>video_comment_count</th>\n",
              "      <td>-0.608773</td>\n",
              "      <td>0.012674</td>\n",
              "      <td>-0.001086</td>\n",
              "      <td>0.748361</td>\n",
              "      <td>0.818032</td>\n",
              "      <td>0.671335</td>\n",
              "      <td>0.793668</td>\n",
              "      <td>1.000000</td>\n",
              "      <td>0.217661</td>\n",
              "    </tr>\n",
              "    <tr>\n",
              "      <th>transcription_length</th>\n",
              "      <td>-0.193677</td>\n",
              "      <td>-0.007083</td>\n",
              "      <td>-0.002981</td>\n",
              "      <td>0.244693</td>\n",
              "      <td>0.216693</td>\n",
              "      <td>0.171651</td>\n",
              "      <td>0.173396</td>\n",
              "      <td>0.217661</td>\n",
              "      <td>1.000000</td>\n",
              "    </tr>\n",
              "  </tbody>\n",
              "</table>\n",
              "</div>"
            ],
            "text/plain": [
              "                             #  video_id  video_duration_sec  \\\n",
              "#                     1.000000 -0.000853           -0.011729   \n",
              "video_id             -0.000853  1.000000            0.011859   \n",
              "video_duration_sec   -0.011729  0.011859            1.000000   \n",
              "video_view_count     -0.697007  0.002554            0.013589   \n",
              "video_like_count     -0.626385  0.005993            0.004494   \n",
              "video_share_count    -0.504015  0.010515            0.002206   \n",
              "video_download_count -0.487096  0.008753            0.003989   \n",
              "video_comment_count  -0.608773  0.012674           -0.001086   \n",
              "transcription_length -0.193677 -0.007083           -0.002981   \n",
              "\n",
              "                      video_view_count  video_like_count  video_share_count  \\\n",
              "#                            -0.697007         -0.626385          -0.504015   \n",
              "video_id                      0.002554          0.005993           0.010515   \n",
              "video_duration_sec            0.013589          0.004494           0.002206   \n",
              "video_view_count              1.000000          0.856937           0.711313   \n",
              "video_like_count              0.856937          1.000000           0.832146   \n",
              "video_share_count             0.711313          0.832146           1.000000   \n",
              "video_download_count          0.690048          0.805543           0.710117   \n",
              "video_comment_count           0.748361          0.818032           0.671335   \n",
              "transcription_length          0.244693          0.216693           0.171651   \n",
              "\n",
              "                      video_download_count  video_comment_count  \\\n",
              "#                                -0.487096            -0.608773   \n",
              "video_id                          0.008753             0.012674   \n",
              "video_duration_sec                0.003989            -0.001086   \n",
              "video_view_count                  0.690048             0.748361   \n",
              "video_like_count                  0.805543             0.818032   \n",
              "video_share_count                 0.710117             0.671335   \n",
              "video_download_count              1.000000             0.793668   \n",
              "video_comment_count               0.793668             1.000000   \n",
              "transcription_length              0.173396             0.217661   \n",
              "\n",
              "                      transcription_length  \n",
              "#                                -0.193677  \n",
              "video_id                         -0.007083  \n",
              "video_duration_sec               -0.002981  \n",
              "video_view_count                  0.244693  \n",
              "video_like_count                  0.216693  \n",
              "video_share_count                 0.171651  \n",
              "video_download_count              0.173396  \n",
              "video_comment_count               0.217661  \n",
              "transcription_length              1.000000  "
            ]
          },
          "execution_count": 23,
          "metadata": {},
          "output_type": "execute_result"
        }
      ],
      "source": [
        "# Calculate correlation matrix for numeric columns only\n",
        "data_upsampled.corr(numeric_only=True)"
      ]
    },
    {
      "cell_type": "code",
      "execution_count": null,
      "metadata": {
        "id": "8Ti_MFF7tekR",
        "outputId": "cbdc8c32-893f-4970-f33e-57409c18ace6"
      },
      "outputs": [
        {
          "data": {
            "image/png": "[encoded data removed]",
            "text/plain": [
              "<Figure size 1000x800 with 2 Axes>"
            ]
          },
          "metadata": {},
          "output_type": "display_data"
        }
      ],
      "source": [
        "# Drop irrelevant identifier columns that are not useful for modeling\n",
        "data_upsampled = data_upsampled.drop(columns=['#', 'video_id'])\n",
        "\n",
        "# Select only numeric features\n",
        "numeric_cols = data_upsampled.select_dtypes(include=['float64', 'int64'])\n",
        "\n",
        "# Compute correlation matrix\n",
        "correlation_matrix = numeric_cols.corr()\n",
        "\n",
        "# Plot the heatmap\n",
        "plt.figure(figsize=(10, 8))\n",
        "sns.heatmap(correlation_matrix, annot=True, cmap='coolwarm', fmt=\".2f\", square=True)\n",
        "plt.title('Correlation Matrix of Numeric Features')\n",
        "plt.show()\n",
        "\n",
        "\n"
      ]
    },
    {
      "cell_type": "markdown",
      "metadata": {
        "id": "zyQgcrDI00bT"
      },
      "source": [
        "The heatmap shows that several video performance metrics are strongly correlated. In particular, `video_view_count` and `video_like_count` have a high correlation coefficient of **0.86**, indicating a strong positive linear relationship. Additionally, `video_like_count` is also strongly correlated with `video_share_count`, `video_download_count`, and `video_comment_count`, all with coefficients above **0.79**.\n",
        "\n",
        "These strong correlations suggest potential multicollinearity if multiple interaction-related features are included in the model. To address this and meet the logistic regression assumption of no severe multicollinearity, it would be appropriate to exclude some of these variables. For example, the model can retain `video_view_count` as a representative feature and drop `video_like_count`, which is highly correlated with several other metrics.\n"
      ]
    },
    {
      "cell_type": "markdown",
      "metadata": {
        "id": "lgPul2DiY6T4"
      },
      "source": [
        "## **PACE: Construct**\n"
      ]
    },
    {
      "cell_type": "markdown",
      "metadata": {
        "id": "07UJJm41ajgf"
      },
      "source": [
        "### **Task 3a. Select variables**"
      ]
    },
    {
      "cell_type": "code",
      "execution_count": null,
      "metadata": {
        "id": "uH6jiQECBgFn"
      },
      "outputs": [],
      "source": [
        "# Select outcome variable (target)\n",
        "y = data_upsampled[\"verified_status\"]\n"
      ]
    },
    {
      "cell_type": "code",
      "execution_count": null,
      "metadata": {
        "id": "iJ5C6M5zCP3k",
        "outputId": "d6e6e4e4-3859-466d-f8bc-4981020c3d9d"
      },
      "outputs": [
        {
          "data": {
            "text/html": [
              "<div>\n",
              "<style scoped>\n",
              "    .dataframe tbody tr th:only-of-type {\n",
              "        vertical-align: middle;\n",
              "    }\n",
              "\n",
              "    .dataframe tbody tr th {\n",
              "        vertical-align: top;\n",
              "    }\n",
              "\n",
              "    .dataframe thead th {\n",
              "        text-align: right;\n",
              "    }\n",
              "</style>\n",
              "<table border=\"1\" class=\"dataframe\">\n",
              "  <thead>\n",
              "    <tr style=\"text-align: right;\">\n",
              "      <th></th>\n",
              "      <th>video_duration_sec</th>\n",
              "      <th>claim_status</th>\n",
              "      <th>author_ban_status</th>\n",
              "      <th>video_view_count</th>\n",
              "      <th>video_share_count</th>\n",
              "      <th>video_download_count</th>\n",
              "      <th>video_comment_count</th>\n",
              "    </tr>\n",
              "  </thead>\n",
              "  <tbody>\n",
              "    <tr>\n",
              "      <th>0</th>\n",
              "      <td>59</td>\n",
              "      <td>claim</td>\n",
              "      <td>under review</td>\n",
              "      <td>343296.0</td>\n",
              "      <td>241.0</td>\n",
              "      <td>1.0</td>\n",
              "      <td>0.0</td>\n",
              "    </tr>\n",
              "    <tr>\n",
              "      <th>1</th>\n",
              "      <td>32</td>\n",
              "      <td>claim</td>\n",
              "      <td>active</td>\n",
              "      <td>140877.0</td>\n",
              "      <td>19034.0</td>\n",
              "      <td>1161.0</td>\n",
              "      <td>684.0</td>\n",
              "    </tr>\n",
              "    <tr>\n",
              "      <th>2</th>\n",
              "      <td>31</td>\n",
              "      <td>claim</td>\n",
              "      <td>active</td>\n",
              "      <td>902185.0</td>\n",
              "      <td>2858.0</td>\n",
              "      <td>833.0</td>\n",
              "      <td>329.0</td>\n",
              "    </tr>\n",
              "    <tr>\n",
              "      <th>3</th>\n",
              "      <td>25</td>\n",
              "      <td>claim</td>\n",
              "      <td>active</td>\n",
              "      <td>437506.0</td>\n",
              "      <td>34812.0</td>\n",
              "      <td>1234.0</td>\n",
              "      <td>584.0</td>\n",
              "    </tr>\n",
              "    <tr>\n",
              "      <th>4</th>\n",
              "      <td>19</td>\n",
              "      <td>claim</td>\n",
              "      <td>active</td>\n",
              "      <td>56167.0</td>\n",
              "      <td>4110.0</td>\n",
              "      <td>547.0</td>\n",
              "      <td>152.0</td>\n",
              "    </tr>\n",
              "  </tbody>\n",
              "</table>\n",
              "</div>"
            ],
            "text/plain": [
              "   video_duration_sec claim_status author_ban_status  video_view_count  \\\n",
              "0                  59        claim      under review          343296.0   \n",
              "1                  32        claim            active          140877.0   \n",
              "2                  31        claim            active          902185.0   \n",
              "3                  25        claim            active          437506.0   \n",
              "4                  19        claim            active           56167.0   \n",
              "\n",
              "   video_share_count  video_download_count  video_comment_count  \n",
              "0              241.0                   1.0                  0.0  \n",
              "1            19034.0                1161.0                684.0  \n",
              "2             2858.0                 833.0                329.0  \n",
              "3            34812.0                1234.0                584.0  \n",
              "4             4110.0                 547.0                152.0  "
            ]
          },
          "execution_count": 26,
          "metadata": {},
          "output_type": "execute_result"
        }
      ],
      "source": [
        "# Select features\n",
        "X = data_upsampled[[\"video_duration_sec\", \"claim_status\", \"author_ban_status\", \"video_view_count\", \"video_share_count\", \"video_download_count\", \"video_comment_count\"]]\n",
        "\n",
        "# Display first few rows of features dataframe\n",
        "X.head()\n"
      ]
    },
    {
      "cell_type": "markdown",
      "metadata": {
        "id": "gPIBz0-HDEqd"
      },
      "source": [
        "### **Task 3b. Train-test split**"
      ]
    },
    {
      "cell_type": "code",
      "execution_count": null,
      "metadata": {
        "id": "jKgrew0V6o_3"
      },
      "outputs": [],
      "source": [
        "# Split the data into training and testing sets\n",
        "\n",
        "X_train, X_test, y_train, y_test = train_test_split(X, y, test_size=0.25, random_state=0)"
      ]
    },
    {
      "cell_type": "markdown",
      "metadata": {
        "id": "5VlklzoujrAR"
      },
      "source": [
        "Confirm that the dimensions of the training and testing sets are in alignment."
      ]
    },
    {
      "cell_type": "code",
      "execution_count": null,
      "metadata": {
        "id": "xgbB1NCtfxcc",
        "outputId": "a068725f-5321-434c-d27a-476474b0c9e1"
      },
      "outputs": [
        {
          "name": "stdout",
          "output_type": "stream",
          "text": [
            "X_train shape: (26826, 7)\n",
            "X_test shape: (8942, 7)\n",
            "y_train shape: (26826,)\n",
            "y_test shape: (8942,)\n"
          ]
        }
      ],
      "source": [
        "# Get shape of each training and testing set\n",
        "print(\"X_train shape:\", X_train.shape)\n",
        "print(\"X_test shape:\", X_test.shape)\n",
        "print(\"y_train shape:\", y_train.shape)\n",
        "print(\"y_test shape:\", y_test.shape)\n",
        "\n"
      ]
    },
    {
      "cell_type": "code",
      "execution_count": null,
      "metadata": {
        "id": "dBGqHZSNHe6C"
      },
      "outputs": [],
      "source": [
        "Notes:After splitting the data, the training set contains 26,826 records and the testing set contains 8,942 records, for a total of 35,768 observations. This total matches the upsampled dataset, which includes an equal number of verified and unverified accounts. Each feature set, X_train and X_test, includes 7 predictor variables: video_duration_sec, claim_status, author_ban_status, video_view_count, video_share_count, video_download_count, and video_comment_count. These results confirm that the data has been successfully split and is ready for the next step, which involves encoding the categorical variables before training the logistic regression model."
      ]
    },
    {
      "cell_type": "markdown",
      "metadata": {
        "id": "V7PjlXFuDRp_"
      },
      "source": [
        "### **Task 3c. Encode variables**"
      ]
    },
    {
      "cell_type": "code",
      "execution_count": null,
      "metadata": {
        "id": "TefBRXUu8zWR",
        "outputId": "0da273c6-5812-4c45-9f2c-574659dffd3d"
      },
      "outputs": [
        {
          "data": {
            "text/plain": [
              "video_duration_sec        int64\n",
              "claim_status             object\n",
              "author_ban_status        object\n",
              "video_view_count        float64\n",
              "video_share_count       float64\n",
              "video_download_count    float64\n",
              "video_comment_count     float64\n",
              "dtype: object"
            ]
          },
          "execution_count": 29,
          "metadata": {},
          "output_type": "execute_result"
        }
      ],
      "source": [
        "# Check data types\n",
        "X_train.dtypes\n"
      ]
    },
    {
      "cell_type": "code",
      "execution_count": null,
      "metadata": {
        "id": "gT1YqFZc-uBF",
        "outputId": "35cd57d8-c807-4d10-8cb1-c1d8972444ac"
      },
      "outputs": [
        {
          "data": {
            "text/plain": [
              "array(['opinion', 'claim'], dtype=object)"
            ]
          },
          "execution_count": 30,
          "metadata": {},
          "output_type": "execute_result"
        }
      ],
      "source": [
        "# Get unique values in `claim_status`\n",
        "X_train[\"claim_status\"].unique()\n",
        "\n",
        "\n"
      ]
    },
    {
      "cell_type": "code",
      "execution_count": null,
      "metadata": {
        "id": "uSnObsvy-wpz",
        "outputId": "d824c684-6fa4-418f-981d-2f7c7a811440"
      },
      "outputs": [
        {
          "data": {
            "text/plain": [
              "array(['active', 'under review', 'banned'], dtype=object)"
            ]
          },
          "execution_count": 31,
          "metadata": {},
          "output_type": "execute_result"
        }
      ],
      "source": [
        "# Get unique values in `author_ban_status`\n",
        "X_train[\"author_ban_status\"].unique()\n",
        "\n"
      ]
    },
    {
      "cell_type": "code",
      "execution_count": null,
      "metadata": {
        "id": "mlMTSyaTcBct",
        "outputId": "3c4d6d59-267d-41bf-e374-37a5a8ff3f2e"
      },
      "outputs": [
        {
          "data": {
            "text/html": [
              "<div>\n",
              "<style scoped>\n",
              "    .dataframe tbody tr th:only-of-type {\n",
              "        vertical-align: middle;\n",
              "    }\n",
              "\n",
              "    .dataframe tbody tr th {\n",
              "        vertical-align: top;\n",
              "    }\n",
              "\n",
              "    .dataframe thead th {\n",
              "        text-align: right;\n",
              "    }\n",
              "</style>\n",
              "<table border=\"1\" class=\"dataframe\">\n",
              "  <thead>\n",
              "    <tr style=\"text-align: right;\">\n",
              "      <th></th>\n",
              "      <th>claim_status</th>\n",
              "      <th>author_ban_status</th>\n",
              "    </tr>\n",
              "  </thead>\n",
              "  <tbody>\n",
              "    <tr>\n",
              "      <th>33058</th>\n",
              "      <td>opinion</td>\n",
              "      <td>active</td>\n",
              "    </tr>\n",
              "    <tr>\n",
              "      <th>20491</th>\n",
              "      <td>opinion</td>\n",
              "      <td>active</td>\n",
              "    </tr>\n",
              "    <tr>\n",
              "      <th>25583</th>\n",
              "      <td>opinion</td>\n",
              "      <td>active</td>\n",
              "    </tr>\n",
              "    <tr>\n",
              "      <th>18474</th>\n",
              "      <td>opinion</td>\n",
              "      <td>active</td>\n",
              "    </tr>\n",
              "    <tr>\n",
              "      <th>27312</th>\n",
              "      <td>opinion</td>\n",
              "      <td>active</td>\n",
              "    </tr>\n",
              "  </tbody>\n",
              "</table>\n",
              "</div>"
            ],
            "text/plain": [
              "      claim_status author_ban_status\n",
              "33058      opinion            active\n",
              "20491      opinion            active\n",
              "25583      opinion            active\n",
              "18474      opinion            active\n",
              "27312      opinion            active"
            ]
          },
          "execution_count": 32,
          "metadata": {},
          "output_type": "execute_result"
        }
      ],
      "source": [
        "# Select the training features that need to be encoded\n",
        "X_train_categorical = X_train[[\"claim_status\", \"author_ban_status\"]]\n",
        "\n",
        "# Display first few rows\n",
        "X_train_categorical.head()\n",
        "\n"
      ]
    },
    {
      "cell_type": "code",
      "execution_count": null,
      "metadata": {
        "id": "lSM5lQioAjex"
      },
      "outputs": [],
      "source": [
        "from sklearn.preprocessing import OneHotEncoder\n",
        "\n",
        "# Set up one-hot encoder\n",
        "encoder = OneHotEncoder(drop='first', sparse_output=False) # drop='first' to avoid multicollinearity\n",
        "\n"
      ]
    },
    {
      "cell_type": "code",
      "execution_count": null,
      "metadata": {
        "id": "PH_KGRJApBM_"
      },
      "outputs": [],
      "source": [
        "# Fit and transform the training categorical features\n",
        "X_train_encoded = encoder.fit_transform(X_train_categorical)\n",
        "\n"
      ]
    },
    {
      "cell_type": "code",
      "execution_count": null,
      "metadata": {
        "id": "j57gJjIFpyO_",
        "outputId": "97f930da-b19d-4df4-b5c8-eef7088f9f3e"
      },
      "outputs": [
        {
          "name": "stdout",
          "output_type": "stream",
          "text": [
            "['claim_status_opinion' 'author_ban_status_banned'\n",
            " 'author_ban_status_under review']\n"
          ]
        }
      ],
      "source": [
        "# Get feature names from encoder\n",
        "encoded_feature_names = encoder.get_feature_names_out(X_train_categorical.columns)\n",
        "# Display encoded feature names\n",
        "print(encoded_feature_names)\n"
      ]
    },
    {
      "cell_type": "code",
      "execution_count": null,
      "metadata": {
        "id": "2vSYk7n7phDI",
        "outputId": "41323e60-dfef-41d2-a234-30a77bbcb33b"
      },
      "outputs": [
        {
          "data": {
            "text/plain": [
              "array([[1., 0., 0.],\n",
              "       [1., 0., 0.],\n",
              "       [1., 0., 0.],\n",
              "       ...,\n",
              "       [1., 0., 0.],\n",
              "       [1., 0., 0.],\n",
              "       [0., 1., 0.]])"
            ]
          },
          "execution_count": 36,
          "metadata": {},
          "output_type": "execute_result"
        }
      ],
      "source": [
        "# Display first few rows of encoded training features\n",
        "X_train_encoded\n"
      ]
    },
    {
      "cell_type": "code",
      "execution_count": null,
      "metadata": {
        "id": "jAn10kA9qcUa",
        "outputId": "88589d47-a268-42f8-8581-a61e1653365c"
      },
      "outputs": [
        {
          "data": {
            "text/html": [
              "<div>\n",
              "<style scoped>\n",
              "    .dataframe tbody tr th:only-of-type {\n",
              "        vertical-align: middle;\n",
              "    }\n",
              "\n",
              "    .dataframe tbody tr th {\n",
              "        vertical-align: top;\n",
              "    }\n",
              "\n",
              "    .dataframe thead th {\n",
              "        text-align: right;\n",
              "    }\n",
              "</style>\n",
              "<table border=\"1\" class=\"dataframe\">\n",
              "  <thead>\n",
              "    <tr style=\"text-align: right;\">\n",
              "      <th></th>\n",
              "      <th>claim_status_opinion</th>\n",
              "      <th>author_ban_status_banned</th>\n",
              "      <th>author_ban_status_under review</th>\n",
              "    </tr>\n",
              "  </thead>\n",
              "  <tbody>\n",
              "    <tr>\n",
              "      <th>0</th>\n",
              "      <td>1.0</td>\n",
              "      <td>0.0</td>\n",
              "      <td>0.0</td>\n",
              "    </tr>\n",
              "    <tr>\n",
              "      <th>1</th>\n",
              "      <td>1.0</td>\n",
              "      <td>0.0</td>\n",
              "      <td>0.0</td>\n",
              "    </tr>\n",
              "    <tr>\n",
              "      <th>2</th>\n",
              "      <td>1.0</td>\n",
              "      <td>0.0</td>\n",
              "      <td>0.0</td>\n",
              "    </tr>\n",
              "    <tr>\n",
              "      <th>3</th>\n",
              "      <td>1.0</td>\n",
              "      <td>0.0</td>\n",
              "      <td>0.0</td>\n",
              "    </tr>\n",
              "    <tr>\n",
              "      <th>4</th>\n",
              "      <td>1.0</td>\n",
              "      <td>0.0</td>\n",
              "      <td>0.0</td>\n",
              "    </tr>\n",
              "  </tbody>\n",
              "</table>\n",
              "</div>"
            ],
            "text/plain": [
              "   claim_status_opinion  author_ban_status_banned  \\\n",
              "0                   1.0                       0.0   \n",
              "1                   1.0                       0.0   \n",
              "2                   1.0                       0.0   \n",
              "3                   1.0                       0.0   \n",
              "4                   1.0                       0.0   \n",
              "\n",
              "   author_ban_status_under review  \n",
              "0                             0.0  \n",
              "1                             0.0  \n",
              "2                             0.0  \n",
              "3                             0.0  \n",
              "4                             0.0  "
            ]
          },
          "execution_count": 37,
          "metadata": {},
          "output_type": "execute_result"
        }
      ],
      "source": [
        "# Place encoded training features (which is currently an array) into a dataframe\n",
        "X_train_encoded_df = pd.DataFrame(data=X_train_encoded, columns=encoder.get_feature_names_out())\n",
        "\n",
        "# Display first few rows\n",
        "X_train_encoded_df.head()\n",
        "\n",
        "\n"
      ]
    },
    {
      "cell_type": "code",
      "execution_count": null,
      "metadata": {
        "id": "7pdBRVwnuwc0",
        "outputId": "00a30884-9d36-4a5c-e4d2-49f7cef6283d"
      },
      "outputs": [
        {
          "data": {
            "text/html": [
              "<div>\n",
              "<style scoped>\n",
              "    .dataframe tbody tr th:only-of-type {\n",
              "        vertical-align: middle;\n",
              "    }\n",
              "\n",
              "    .dataframe tbody tr th {\n",
              "        vertical-align: top;\n",
              "    }\n",
              "\n",
              "    .dataframe thead th {\n",
              "        text-align: right;\n",
              "    }\n",
              "</style>\n",
              "<table border=\"1\" class=\"dataframe\">\n",
              "  <thead>\n",
              "    <tr style=\"text-align: right;\">\n",
              "      <th></th>\n",
              "      <th>video_duration_sec</th>\n",
              "      <th>video_view_count</th>\n",
              "      <th>video_share_count</th>\n",
              "      <th>video_download_count</th>\n",
              "      <th>video_comment_count</th>\n",
              "    </tr>\n",
              "  </thead>\n",
              "  <tbody>\n",
              "    <tr>\n",
              "      <th>33058</th>\n",
              "      <td>33</td>\n",
              "      <td>2252.0</td>\n",
              "      <td>23.0</td>\n",
              "      <td>4.0</td>\n",
              "      <td>0.0</td>\n",
              "    </tr>\n",
              "    <tr>\n",
              "      <th>20491</th>\n",
              "      <td>52</td>\n",
              "      <td>6664.0</td>\n",
              "      <td>550.0</td>\n",
              "      <td>53.0</td>\n",
              "      <td>2.0</td>\n",
              "    </tr>\n",
              "    <tr>\n",
              "      <th>25583</th>\n",
              "      <td>37</td>\n",
              "      <td>6327.0</td>\n",
              "      <td>257.0</td>\n",
              "      <td>3.0</td>\n",
              "      <td>0.0</td>\n",
              "    </tr>\n",
              "    <tr>\n",
              "      <th>18474</th>\n",
              "      <td>57</td>\n",
              "      <td>1702.0</td>\n",
              "      <td>28.0</td>\n",
              "      <td>0.0</td>\n",
              "      <td>0.0</td>\n",
              "    </tr>\n",
              "    <tr>\n",
              "      <th>27312</th>\n",
              "      <td>21</td>\n",
              "      <td>3842.0</td>\n",
              "      <td>101.0</td>\n",
              "      <td>1.0</td>\n",
              "      <td>0.0</td>\n",
              "    </tr>\n",
              "  </tbody>\n",
              "</table>\n",
              "</div>"
            ],
            "text/plain": [
              "       video_duration_sec  video_view_count  video_share_count  \\\n",
              "33058                  33            2252.0               23.0   \n",
              "20491                  52            6664.0              550.0   \n",
              "25583                  37            6327.0              257.0   \n",
              "18474                  57            1702.0               28.0   \n",
              "27312                  21            3842.0              101.0   \n",
              "\n",
              "       video_download_count  video_comment_count  \n",
              "33058                   4.0                  0.0  \n",
              "20491                  53.0                  2.0  \n",
              "25583                   3.0                  0.0  \n",
              "18474                   0.0                  0.0  \n",
              "27312                   1.0                  0.0  "
            ]
          },
          "execution_count": 38,
          "metadata": {},
          "output_type": "execute_result"
        }
      ],
      "source": [
        "# Drop categorical columns from X_train\n",
        "X_train_dropped = X_train.drop(columns=[\"claim_status\", \"author_ban_status\"])\n",
        "\n",
        "# Display first few rows\n",
        "X_train_dropped.head()\n",
        "\n"
      ]
    },
    {
      "cell_type": "code",
      "execution_count": null,
      "metadata": {
        "id": "qKG1TK-KEfuB",
        "outputId": "e0a66eaf-3a90-488b-9e56-c93db45b5683"
      },
      "outputs": [
        {
          "data": {
            "text/html": [
              "<div>\n",
              "<style scoped>\n",
              "    .dataframe tbody tr th:only-of-type {\n",
              "        vertical-align: middle;\n",
              "    }\n",
              "\n",
              "    .dataframe tbody tr th {\n",
              "        vertical-align: top;\n",
              "    }\n",
              "\n",
              "    .dataframe thead th {\n",
              "        text-align: right;\n",
              "    }\n",
              "</style>\n",
              "<table border=\"1\" class=\"dataframe\">\n",
              "  <thead>\n",
              "    <tr style=\"text-align: right;\">\n",
              "      <th></th>\n",
              "      <th>video_duration_sec</th>\n",
              "      <th>video_view_count</th>\n",
              "      <th>video_share_count</th>\n",
              "      <th>video_download_count</th>\n",
              "      <th>video_comment_count</th>\n",
              "      <th>claim_status_opinion</th>\n",
              "      <th>author_ban_status_banned</th>\n",
              "      <th>author_ban_status_under review</th>\n",
              "    </tr>\n",
              "  </thead>\n",
              "  <tbody>\n",
              "    <tr>\n",
              "      <th>0</th>\n",
              "      <td>33</td>\n",
              "      <td>2252.0</td>\n",
              "      <td>23.0</td>\n",
              "      <td>4.0</td>\n",
              "      <td>0.0</td>\n",
              "      <td>1.0</td>\n",
              "      <td>0.0</td>\n",
              "      <td>0.0</td>\n",
              "    </tr>\n",
              "    <tr>\n",
              "      <th>1</th>\n",
              "      <td>52</td>\n",
              "      <td>6664.0</td>\n",
              "      <td>550.0</td>\n",
              "      <td>53.0</td>\n",
              "      <td>2.0</td>\n",
              "      <td>1.0</td>\n",
              "      <td>0.0</td>\n",
              "      <td>0.0</td>\n",
              "    </tr>\n",
              "    <tr>\n",
              "      <th>2</th>\n",
              "      <td>37</td>\n",
              "      <td>6327.0</td>\n",
              "      <td>257.0</td>\n",
              "      <td>3.0</td>\n",
              "      <td>0.0</td>\n",
              "      <td>1.0</td>\n",
              "      <td>0.0</td>\n",
              "      <td>0.0</td>\n",
              "    </tr>\n",
              "    <tr>\n",
              "      <th>3</th>\n",
              "      <td>57</td>\n",
              "      <td>1702.0</td>\n",
              "      <td>28.0</td>\n",
              "      <td>0.0</td>\n",
              "      <td>0.0</td>\n",
              "      <td>1.0</td>\n",
              "      <td>0.0</td>\n",
              "      <td>0.0</td>\n",
              "    </tr>\n",
              "    <tr>\n",
              "      <th>4</th>\n",
              "      <td>21</td>\n",
              "      <td>3842.0</td>\n",
              "      <td>101.0</td>\n",
              "      <td>1.0</td>\n",
              "      <td>0.0</td>\n",
              "      <td>1.0</td>\n",
              "      <td>0.0</td>\n",
              "      <td>0.0</td>\n",
              "    </tr>\n",
              "  </tbody>\n",
              "</table>\n",
              "</div>"
            ],
            "text/plain": [
              "   video_duration_sec  video_view_count  video_share_count  \\\n",
              "0                  33            2252.0               23.0   \n",
              "1                  52            6664.0              550.0   \n",
              "2                  37            6327.0              257.0   \n",
              "3                  57            1702.0               28.0   \n",
              "4                  21            3842.0              101.0   \n",
              "\n",
              "   video_download_count  video_comment_count  claim_status_opinion  \\\n",
              "0                   4.0                  0.0                   1.0   \n",
              "1                  53.0                  2.0                   1.0   \n",
              "2                   3.0                  0.0                   1.0   \n",
              "3                   0.0                  0.0                   1.0   \n",
              "4                   1.0                  0.0                   1.0   \n",
              "\n",
              "   author_ban_status_banned  author_ban_status_under review  \n",
              "0                       0.0                             0.0  \n",
              "1                       0.0                             0.0  \n",
              "2                       0.0                             0.0  \n",
              "3                       0.0                             0.0  \n",
              "4                       0.0                             0.0  "
            ]
          },
          "execution_count": 39,
          "metadata": {},
          "output_type": "execute_result"
        }
      ],
      "source": [
        "# Concatenate `X_train_dropped` and `X_train_encoded_df` to form `X_train_final`\n",
        "X_train_final = pd.concat([X_train_dropped.reset_index(drop=True),\n",
        "                           X_train_encoded_df.reset_index(drop=True)], axis=1)\n",
        "\n",
        "# Display first few rows\n",
        "X_train_final.head()\n"
      ]
    },
    {
      "cell_type": "code",
      "execution_count": null,
      "metadata": {
        "id": "QNu4ndvufeP2",
        "outputId": "34f647b7-d308-46db-8973-88982e5e5b12"
      },
      "outputs": [
        {
          "data": {
            "text/plain": [
              "dtype('O')"
            ]
          },
          "execution_count": 40,
          "metadata": {},
          "output_type": "execute_result"
        }
      ],
      "source": [
        "# Check data type of outcome variable\n",
        "y_train.dtype\n",
        "\n"
      ]
    },
    {
      "cell_type": "code",
      "execution_count": null,
      "metadata": {
        "id": "23VVtIeD9fet",
        "outputId": "963a9b48-1566-4828-8d06-91f56aed3d13"
      },
      "outputs": [
        {
          "data": {
            "text/plain": [
              "array(['verified', 'not verified'], dtype=object)"
            ]
          },
          "execution_count": 41,
          "metadata": {},
          "output_type": "execute_result"
        }
      ],
      "source": [
        "# Get unique values of outcome variable\n",
        "y_train.unique()\n",
        "\n"
      ]
    },
    {
      "cell_type": "code",
      "execution_count": null,
      "metadata": {
        "id": "xGeLvAbgIBGh"
      },
      "outputs": [],
      "source": [
        "# Set up an encoder for one-hot encoding the categorical outcome variable\n",
        "y_encoder = OneHotEncoder(drop='first', sparse_output=False)\n",
        "\n"
      ]
    },
    {
      "cell_type": "code",
      "execution_count": null,
      "metadata": {
        "id": "qJKcy7sqGeSC",
        "scrolled": true,
        "outputId": "e350a31c-1e08-4488-edd0-e0c189428555"
      },
      "outputs": [
        {
          "data": {
            "text/plain": [
              "array([1., 1., 1., ..., 1., 1., 0.])"
            ]
          },
          "execution_count": 43,
          "metadata": {},
          "output_type": "execute_result"
        }
      ],
      "source": [
        "# Encode the training outcome variable\n",
        "# Notes:\n",
        "#   - Using `.to_frame()` to ensure the encoder receives a 2D input with column names (as expected)\n",
        "#   - Using `.ravel()` to flatten the array returned by `.fit_transform()`, so that it can be used later to train the model\n",
        "y_train_final = y_encoder.fit_transform(y_train.to_frame()).ravel()\n",
        "\n",
        "# Display the encoded training outcome variable\n",
        "y_train_final\n"
      ]
    },
    {
      "cell_type": "markdown",
      "metadata": {
        "id": "iDYyjWssbnBG"
      },
      "source": [
        "### **Task 3d. Model building**"
      ]
    },
    {
      "cell_type": "code",
      "execution_count": null,
      "metadata": {
        "id": "sNcke2SNvZrN"
      },
      "outputs": [],
      "source": [
        "log_clf = LogisticRegression(random_state=0, max_iter=800).fit(X_train_final, y_train_final)\n"
      ]
    },
    {
      "cell_type": "markdown",
      "metadata": {
        "id": "cp7ojoBldEYy"
      },
      "source": [
        "\n",
        "\n",
        "## **PACE: Execute**\n",
        "\n"
      ]
    },
    {
      "cell_type": "markdown",
      "metadata": {
        "id": "F_l3bkxQdJ3a"
      },
      "source": [
        "### **Taks 4a. Results and evaluation**\n",
        "\n",
        "Evaluate your model."
      ]
    },
    {
      "cell_type": "markdown",
      "metadata": {
        "id": "bxnKPq6dIUOB"
      },
      "source": [
        "Encode categorical features in the testing set using an appropriate method."
      ]
    },
    {
      "cell_type": "code",
      "execution_count": null,
      "metadata": {
        "id": "x-bNI_2_Lp_2",
        "outputId": "cb8f6029-a515-4fa7-9761-fd0437eb1d23"
      },
      "outputs": [
        {
          "data": {
            "text/html": [
              "<div>\n",
              "<style scoped>\n",
              "    .dataframe tbody tr th:only-of-type {\n",
              "        vertical-align: middle;\n",
              "    }\n",
              "\n",
              "    .dataframe tbody tr th {\n",
              "        vertical-align: top;\n",
              "    }\n",
              "\n",
              "    .dataframe thead th {\n",
              "        text-align: right;\n",
              "    }\n",
              "</style>\n",
              "<table border=\"1\" class=\"dataframe\">\n",
              "  <thead>\n",
              "    <tr style=\"text-align: right;\">\n",
              "      <th></th>\n",
              "      <th>claim_status</th>\n",
              "      <th>author_ban_status</th>\n",
              "    </tr>\n",
              "  </thead>\n",
              "  <tbody>\n",
              "    <tr>\n",
              "      <th>21061</th>\n",
              "      <td>opinion</td>\n",
              "      <td>active</td>\n",
              "    </tr>\n",
              "    <tr>\n",
              "      <th>31748</th>\n",
              "      <td>opinion</td>\n",
              "      <td>active</td>\n",
              "    </tr>\n",
              "    <tr>\n",
              "      <th>20197</th>\n",
              "      <td>claim</td>\n",
              "      <td>active</td>\n",
              "    </tr>\n",
              "    <tr>\n",
              "      <th>5727</th>\n",
              "      <td>claim</td>\n",
              "      <td>active</td>\n",
              "    </tr>\n",
              "    <tr>\n",
              "      <th>11607</th>\n",
              "      <td>opinion</td>\n",
              "      <td>active</td>\n",
              "    </tr>\n",
              "  </tbody>\n",
              "</table>\n",
              "</div>"
            ],
            "text/plain": [
              "      claim_status author_ban_status\n",
              "21061      opinion            active\n",
              "31748      opinion            active\n",
              "20197        claim            active\n",
              "5727         claim            active\n",
              "11607      opinion            active"
            ]
          },
          "execution_count": 45,
          "metadata": {},
          "output_type": "execute_result"
        }
      ],
      "source": [
        "# Select the testing features that need to be encoded\n",
        "X_test_categorical = X_test[[\"claim_status\", \"author_ban_status\"]]\n",
        "\n",
        "# Display first few rows\n",
        "X_test_categorical.head()\n",
        "\n"
      ]
    },
    {
      "cell_type": "code",
      "execution_count": null,
      "metadata": {
        "id": "OWa-7XD-Lp_3",
        "outputId": "3b21fbf5-a79a-4fc9-f0dd-b3ab4368ad19"
      },
      "outputs": [
        {
          "data": {
            "text/plain": [
              "array([[1., 0., 0.],\n",
              "       [1., 0., 0.],\n",
              "       [0., 0., 0.],\n",
              "       ...,\n",
              "       [1., 0., 0.],\n",
              "       [0., 0., 1.],\n",
              "       [1., 0., 0.]])"
            ]
          },
          "execution_count": 46,
          "metadata": {},
          "output_type": "execute_result"
        }
      ],
      "source": [
        "# Encode the testing categorical features using the encoder trained on training data\n",
        "X_test_encoded = encoder.transform(X_test_categorical)\n",
        "\n",
        "\n",
        "# Display first few rows of encoded testing features\n",
        "X_test_encoded\n"
      ]
    },
    {
      "cell_type": "code",
      "execution_count": null,
      "metadata": {
        "id": "Nmuk2nAELp_3",
        "outputId": "f7a10949-358d-44da-8103-533e7cd14d86"
      },
      "outputs": [
        {
          "data": {
            "text/html": [
              "<div>\n",
              "<style scoped>\n",
              "    .dataframe tbody tr th:only-of-type {\n",
              "        vertical-align: middle;\n",
              "    }\n",
              "\n",
              "    .dataframe tbody tr th {\n",
              "        vertical-align: top;\n",
              "    }\n",
              "\n",
              "    .dataframe thead th {\n",
              "        text-align: right;\n",
              "    }\n",
              "</style>\n",
              "<table border=\"1\" class=\"dataframe\">\n",
              "  <thead>\n",
              "    <tr style=\"text-align: right;\">\n",
              "      <th></th>\n",
              "      <th>claim_status_opinion</th>\n",
              "      <th>author_ban_status_banned</th>\n",
              "      <th>author_ban_status_under review</th>\n",
              "    </tr>\n",
              "  </thead>\n",
              "  <tbody>\n",
              "    <tr>\n",
              "      <th>0</th>\n",
              "      <td>1.0</td>\n",
              "      <td>0.0</td>\n",
              "      <td>0.0</td>\n",
              "    </tr>\n",
              "    <tr>\n",
              "      <th>1</th>\n",
              "      <td>1.0</td>\n",
              "      <td>0.0</td>\n",
              "      <td>0.0</td>\n",
              "    </tr>\n",
              "    <tr>\n",
              "      <th>2</th>\n",
              "      <td>0.0</td>\n",
              "      <td>0.0</td>\n",
              "      <td>0.0</td>\n",
              "    </tr>\n",
              "    <tr>\n",
              "      <th>3</th>\n",
              "      <td>0.0</td>\n",
              "      <td>0.0</td>\n",
              "      <td>0.0</td>\n",
              "    </tr>\n",
              "    <tr>\n",
              "      <th>4</th>\n",
              "      <td>1.0</td>\n",
              "      <td>0.0</td>\n",
              "      <td>0.0</td>\n",
              "    </tr>\n",
              "  </tbody>\n",
              "</table>\n",
              "</div>"
            ],
            "text/plain": [
              "   claim_status_opinion  author_ban_status_banned  \\\n",
              "0                   1.0                       0.0   \n",
              "1                   1.0                       0.0   \n",
              "2                   0.0                       0.0   \n",
              "3                   0.0                       0.0   \n",
              "4                   1.0                       0.0   \n",
              "\n",
              "   author_ban_status_under review  \n",
              "0                             0.0  \n",
              "1                             0.0  \n",
              "2                             0.0  \n",
              "3                             0.0  \n",
              "4                             0.0  "
            ]
          },
          "execution_count": 47,
          "metadata": {},
          "output_type": "execute_result"
        }
      ],
      "source": [
        "# Convert encoded array into a DataFrame\n",
        "X_test_encoded_df = pd.DataFrame(X_test_encoded, columns=encoder.get_feature_names_out())\n",
        "\n",
        "# Display first few rows\n",
        "X_test_encoded_df.head()\n"
      ]
    },
    {
      "cell_type": "code",
      "execution_count": null,
      "metadata": {
        "id": "uPkMT-n17pV5",
        "outputId": "83d4d7e1-3f40-491c-ba53-3951bf4c0755"
      },
      "outputs": [
        {
          "data": {
            "text/html": [
              "<div>\n",
              "<style scoped>\n",
              "    .dataframe tbody tr th:only-of-type {\n",
              "        vertical-align: middle;\n",
              "    }\n",
              "\n",
              "    .dataframe tbody tr th {\n",
              "        vertical-align: top;\n",
              "    }\n",
              "\n",
              "    .dataframe thead th {\n",
              "        text-align: right;\n",
              "    }\n",
              "</style>\n",
              "<table border=\"1\" class=\"dataframe\">\n",
              "  <thead>\n",
              "    <tr style=\"text-align: right;\">\n",
              "      <th></th>\n",
              "      <th>video_duration_sec</th>\n",
              "      <th>video_view_count</th>\n",
              "      <th>video_share_count</th>\n",
              "      <th>video_download_count</th>\n",
              "      <th>video_comment_count</th>\n",
              "    </tr>\n",
              "  </thead>\n",
              "  <tbody>\n",
              "    <tr>\n",
              "      <th>21061</th>\n",
              "      <td>41</td>\n",
              "      <td>2118.0</td>\n",
              "      <td>57.0</td>\n",
              "      <td>5.0</td>\n",
              "      <td>2.0</td>\n",
              "    </tr>\n",
              "    <tr>\n",
              "      <th>31748</th>\n",
              "      <td>27</td>\n",
              "      <td>5701.0</td>\n",
              "      <td>157.0</td>\n",
              "      <td>1.0</td>\n",
              "      <td>0.0</td>\n",
              "    </tr>\n",
              "    <tr>\n",
              "      <th>20197</th>\n",
              "      <td>31</td>\n",
              "      <td>449767.0</td>\n",
              "      <td>75385.0</td>\n",
              "      <td>5956.0</td>\n",
              "      <td>728.5</td>\n",
              "    </tr>\n",
              "    <tr>\n",
              "      <th>5727</th>\n",
              "      <td>19</td>\n",
              "      <td>792813.0</td>\n",
              "      <td>56597.0</td>\n",
              "      <td>5146.0</td>\n",
              "      <td>728.5</td>\n",
              "    </tr>\n",
              "    <tr>\n",
              "      <th>11607</th>\n",
              "      <td>54</td>\n",
              "      <td>2044.0</td>\n",
              "      <td>68.0</td>\n",
              "      <td>19.0</td>\n",
              "      <td>2.0</td>\n",
              "    </tr>\n",
              "  </tbody>\n",
              "</table>\n",
              "</div>"
            ],
            "text/plain": [
              "       video_duration_sec  video_view_count  video_share_count  \\\n",
              "21061                  41            2118.0               57.0   \n",
              "31748                  27            5701.0              157.0   \n",
              "20197                  31          449767.0            75385.0   \n",
              "5727                   19          792813.0            56597.0   \n",
              "11607                  54            2044.0               68.0   \n",
              "\n",
              "       video_download_count  video_comment_count  \n",
              "21061                   5.0                  2.0  \n",
              "31748                   1.0                  0.0  \n",
              "20197                5956.0                728.5  \n",
              "5727                 5146.0                728.5  \n",
              "11607                  19.0                  2.0  "
            ]
          },
          "execution_count": 48,
          "metadata": {},
          "output_type": "execute_result"
        }
      ],
      "source": [
        "# Drop original categorical columns from X_test\n",
        "X_test_dropped = X_test.drop(columns=[\"claim_status\", \"author_ban_status\"])\n",
        "\n",
        "# Display first few rows\n",
        "X_test_dropped.head()"
      ]
    },
    {
      "cell_type": "code",
      "execution_count": null,
      "metadata": {
        "id": "uLRVCl2yLp_4",
        "outputId": "1ebdce47-6cbc-4b4f-cfe1-b163b108ff27"
      },
      "outputs": [
        {
          "data": {
            "text/html": [
              "<div>\n",
              "<style scoped>\n",
              "    .dataframe tbody tr th:only-of-type {\n",
              "        vertical-align: middle;\n",
              "    }\n",
              "\n",
              "    .dataframe tbody tr th {\n",
              "        vertical-align: top;\n",
              "    }\n",
              "\n",
              "    .dataframe thead th {\n",
              "        text-align: right;\n",
              "    }\n",
              "</style>\n",
              "<table border=\"1\" class=\"dataframe\">\n",
              "  <thead>\n",
              "    <tr style=\"text-align: right;\">\n",
              "      <th></th>\n",
              "      <th>video_duration_sec</th>\n",
              "      <th>video_view_count</th>\n",
              "      <th>video_share_count</th>\n",
              "      <th>video_download_count</th>\n",
              "      <th>video_comment_count</th>\n",
              "      <th>claim_status_opinion</th>\n",
              "      <th>author_ban_status_banned</th>\n",
              "      <th>author_ban_status_under review</th>\n",
              "    </tr>\n",
              "  </thead>\n",
              "  <tbody>\n",
              "    <tr>\n",
              "      <th>0</th>\n",
              "      <td>41</td>\n",
              "      <td>2118.0</td>\n",
              "      <td>57.0</td>\n",
              "      <td>5.0</td>\n",
              "      <td>2.0</td>\n",
              "      <td>1.0</td>\n",
              "      <td>0.0</td>\n",
              "      <td>0.0</td>\n",
              "    </tr>\n",
              "    <tr>\n",
              "      <th>1</th>\n",
              "      <td>27</td>\n",
              "      <td>5701.0</td>\n",
              "      <td>157.0</td>\n",
              "      <td>1.0</td>\n",
              "      <td>0.0</td>\n",
              "      <td>1.0</td>\n",
              "      <td>0.0</td>\n",
              "      <td>0.0</td>\n",
              "    </tr>\n",
              "    <tr>\n",
              "      <th>2</th>\n",
              "      <td>31</td>\n",
              "      <td>449767.0</td>\n",
              "      <td>75385.0</td>\n",
              "      <td>5956.0</td>\n",
              "      <td>728.5</td>\n",
              "      <td>0.0</td>\n",
              "      <td>0.0</td>\n",
              "      <td>0.0</td>\n",
              "    </tr>\n",
              "    <tr>\n",
              "      <th>3</th>\n",
              "      <td>19</td>\n",
              "      <td>792813.0</td>\n",
              "      <td>56597.0</td>\n",
              "      <td>5146.0</td>\n",
              "      <td>728.5</td>\n",
              "      <td>0.0</td>\n",
              "      <td>0.0</td>\n",
              "      <td>0.0</td>\n",
              "    </tr>\n",
              "    <tr>\n",
              "      <th>4</th>\n",
              "      <td>54</td>\n",
              "      <td>2044.0</td>\n",
              "      <td>68.0</td>\n",
              "      <td>19.0</td>\n",
              "      <td>2.0</td>\n",
              "      <td>1.0</td>\n",
              "      <td>0.0</td>\n",
              "      <td>0.0</td>\n",
              "    </tr>\n",
              "  </tbody>\n",
              "</table>\n",
              "</div>"
            ],
            "text/plain": [
              "   video_duration_sec  video_view_count  video_share_count  \\\n",
              "0                  41            2118.0               57.0   \n",
              "1                  27            5701.0              157.0   \n",
              "2                  31          449767.0            75385.0   \n",
              "3                  19          792813.0            56597.0   \n",
              "4                  54            2044.0               68.0   \n",
              "\n",
              "   video_download_count  video_comment_count  claim_status_opinion  \\\n",
              "0                   5.0                  2.0                   1.0   \n",
              "1                   1.0                  0.0                   1.0   \n",
              "2                5956.0                728.5                   0.0   \n",
              "3                5146.0                728.5                   0.0   \n",
              "4                  19.0                  2.0                   1.0   \n",
              "\n",
              "   author_ban_status_banned  author_ban_status_under review  \n",
              "0                       0.0                             0.0  \n",
              "1                       0.0                             0.0  \n",
              "2                       0.0                             0.0  \n",
              "3                       0.0                             0.0  \n",
              "4                       0.0                             0.0  "
            ]
          },
          "execution_count": 49,
          "metadata": {},
          "output_type": "execute_result"
        }
      ],
      "source": [
        "# Concatenate numeric and encoded categorical features\n",
        "X_test_final = pd.concat([X_test_dropped.reset_index(drop=True),\n",
        "                          X_test_encoded_df.reset_index(drop=True)], axis=1)\n",
        "\n",
        "# Display first few rows\n",
        "X_test_final.head()\n"
      ]
    },
    {
      "cell_type": "markdown",
      "metadata": {
        "id": "gM9egturW1eX"
      },
      "source": [
        "Test the logistic regression model. Use the model to make predictions on the encoded testing set."
      ]
    },
    {
      "cell_type": "code",
      "execution_count": null,
      "metadata": {
        "id": "NZQbthy93bWM"
      },
      "outputs": [],
      "source": [
        "# Use the logistic regression model to get predictions on the encoded testing set\n",
        "y_pred = log_clf.predict(X_test_final)\n"
      ]
    },
    {
      "cell_type": "code",
      "execution_count": null,
      "metadata": {
        "id": "tyKjLA_gYUYZ",
        "outputId": "c0bf25db-c746-4b76-927b-e74d28de2f2e"
      },
      "outputs": [
        {
          "data": {
            "text/plain": [
              "array([1., 1., 0., ..., 1., 0., 1.])"
            ]
          },
          "execution_count": 51,
          "metadata": {},
          "output_type": "execute_result"
        }
      ],
      "source": [
        "# Display the predictions on the encoded testing set\n",
        "y_pred\n"
      ]
    },
    {
      "cell_type": "code",
      "execution_count": null,
      "metadata": {
        "id": "JymZrHVDYdvu",
        "outputId": "70c64e87-0aae-4abd-816a-ee93056a5764"
      },
      "outputs": [
        {
          "data": {
            "text/plain": [
              "21061        verified\n",
              "31748        verified\n",
              "20197        verified\n",
              "5727     not verified\n",
              "11607    not verified\n",
              "             ...     \n",
              "14756    not verified\n",
              "26564        verified\n",
              "14800    not verified\n",
              "35705        verified\n",
              "31060        verified\n",
              "Name: verified_status, Length: 8942, dtype: object"
            ]
          },
          "execution_count": 52,
          "metadata": {},
          "output_type": "execute_result"
        }
      ],
      "source": [
        "# Display the true labels of the testing set\n",
        "y_test\n"
      ]
    },
    {
      "cell_type": "code",
      "execution_count": null,
      "metadata": {
        "id": "KNnYVZnjfJfz",
        "outputId": "db23c119-6348-45ea-812f-345072b0ae44"
      },
      "outputs": [
        {
          "data": {
            "text/plain": [
              "array([1., 1., 1., ..., 0., 1., 1.])"
            ]
          },
          "execution_count": 53,
          "metadata": {},
          "output_type": "execute_result"
        }
      ],
      "source": [
        "# Encode the testing outcome variable\n",
        "# Notes:\n",
        "#   - Using `.to_frame()` to ensure the encoder receives a 2D input with column names (as expected)\n",
        "#   - Using `.ravel()` to flatten the array returned by `.transform()`, so that it can be used later to compare with predictions\n",
        "y_test_final = y_encoder.transform(y_test.to_frame()).ravel()\n",
        "\n",
        "# Display the encoded testing outcome variable\n",
        "y_test_final\n"
      ]
    },
    {
      "cell_type": "markdown",
      "metadata": {
        "id": "IzdbI4A4mmHA"
      },
      "source": [
        "Confirm again that the dimensions of the training and testing sets are in alignment since additional features were added."
      ]
    },
    {
      "cell_type": "code",
      "execution_count": null,
      "metadata": {
        "id": "WbbI5cSfmmHA",
        "outputId": "c90136e7-caa0-46bb-d400-743d691877ef"
      },
      "outputs": [
        {
          "name": "stdout",
          "output_type": "stream",
          "text": [
            "X_train_final shape: (26826, 8)\n",
            "X_test_final shape: (8942, 8)\n",
            "y_train_final shape: (26826,)\n",
            "y_test_final shape: (8942,)\n"
          ]
        }
      ],
      "source": [
        "# Get shape of each training and testing set\n",
        "print(\"X_train_final shape:\", X_train_final.shape)\n",
        "print(\"X_test_final shape:\", X_test_final.shape)\n",
        "print(\"y_train_final shape:\", y_train_final.shape)\n",
        "print(\"y_test_final shape:\", y_test_final.shape)\n",
        "\n",
        "\n"
      ]
    },
    {
      "cell_type": "markdown",
      "metadata": {
        "id": "IMQltTaQFnwv"
      },
      "source": [
        "### **Task 4b. Visualize model results**"
      ]
    },
    {
      "cell_type": "markdown",
      "metadata": {
        "id": "VVMG0ubSXQvS"
      },
      "source": [
        "Create a confusion matrix to visualize the results of the logistic regression model."
      ]
    },
    {
      "cell_type": "code",
      "execution_count": null,
      "metadata": {
        "id": "ZPgiHdlyZCTf",
        "outputId": "9ba64fc7-46d3-4c0a-9190-296ed4a0be59"
      },
      "outputs": [
        {
          "data": {
            "image/png": "[encoded data removed]",
            "text/plain": [
              "<Figure size 640x480 with 2 Axes>"
            ]
          },
          "metadata": {},
          "output_type": "display_data"
        }
      ],
      "source": [
        "# Compute values for confusion matrix\n",
        "log_cm = confusion_matrix(y_test_final, y_pred, labels=log_clf.classes_)\n",
        "\n",
        "# Create display of confusion matrix\n",
        "log_disp = ConfusionMatrixDisplay(confusion_matrix=log_cm, display_labels=log_clf.classes_)\n",
        "\n",
        "# Plot confusion matrix\n",
        "log_disp.plot()\n",
        "\n",
        "# Display plot\n",
        "plt.title(\"Confusion Matrix\")\n",
        "plt.show()\n"
      ]
    },
    {
      "cell_type": "markdown",
      "metadata": {
        "id": "I6OmnATfbtNd"
      },
      "source": [
        "###Confusion Matrix – Interpretation\n",
        "\n",
        "This confusion matrix shows the performance of the logistic regression model in predicting whether a TikTok user is verified or not based on video-level features:\n",
        "\n",
        "\n",
        "- **True Negatives (2044):** Correctly predicted unverified accounts  \n",
        "- **False Positives (2415):** Predicted as verified, but actually unverified  \n",
        "- **False Negatives (725):** Predicted as unverified, but actually verified  \n",
        "- **True Positives (3758):** Correctly predicted verified accounts\n",
        "\n"
      ]
    },
    {
      "cell_type": "code",
      "execution_count": null,
      "metadata": {
        "id": "AMxCzRa-bnUe",
        "outputId": "5f5e73e8-3fb7-4b03-9918-f09e54d7d0ff"
      },
      "outputs": [
        {
          "name": "stdout",
          "output_type": "stream",
          "text": [
            "Classification Report:\n",
            "\n",
            "              precision    recall  f1-score   support\n",
            "\n",
            "not verified       0.74      0.46      0.57      4459\n",
            "    verified       0.61      0.84      0.71      4483\n",
            "\n",
            "    accuracy                           0.65      8942\n",
            "   macro avg       0.67      0.65      0.64      8942\n",
            "weighted avg       0.67      0.65      0.64      8942\n",
            "\n"
          ]
        }
      ],
      "source": [
        "# Create classification report for logistic regression model\n",
        "target_labels = [\"not verified\", \"verified\"]\n",
        "print(\"Classification Report:\\n\")\n",
        "print(classification_report(y_test_final, y_pred, target_names=target_labels))\n",
        "\n"
      ]
    },
    {
      "cell_type": "code",
      "execution_count": null,
      "metadata": {
        "id": "khVIbX0yHe6I"
      },
      "outputs": [],
      "source": [
        "#### Key Metrics:\n",
        "- **Accuracy:** 65% → Overall correct predictions\n",
        "- **Precision (verified):** ~61% → Of all predicted verified users, 61% were correct\n",
        "- **Recall (verified):** ~84% → Of all actual verified users, 84% were correctly identified\n",
        "\n",
        "**Insight:**\n",
        "The model is particularly effective at identifying verified accounts (high recall), which is useful if the goal is to prioritize this type of user for further analysis or claim classification."
      ]
    },
    {
      "cell_type": "markdown",
      "metadata": {
        "id": "IFY_y19EKQoO"
      },
      "source": [
        "### **Task 4c. Interpret model coefficients**"
      ]
    },
    {
      "cell_type": "code",
      "execution_count": null,
      "metadata": {
        "id": "6TmRk8tz4JpG",
        "outputId": "5a3957d9-aa4a-4e9b-b814-e93dfcdafb69"
      },
      "outputs": [
        {
          "data": {
            "text/html": [
              "<div>\n",
              "<style scoped>\n",
              "    .dataframe tbody tr th:only-of-type {\n",
              "        vertical-align: middle;\n",
              "    }\n",
              "\n",
              "    .dataframe tbody tr th {\n",
              "        vertical-align: top;\n",
              "    }\n",
              "\n",
              "    .dataframe thead th {\n",
              "        text-align: right;\n",
              "    }\n",
              "</style>\n",
              "<table border=\"1\" class=\"dataframe\">\n",
              "  <thead>\n",
              "    <tr style=\"text-align: right;\">\n",
              "      <th></th>\n",
              "      <th>Feature</th>\n",
              "      <th>Log-Odds Coefficient</th>\n",
              "    </tr>\n",
              "  </thead>\n",
              "  <tbody>\n",
              "    <tr>\n",
              "      <th>0</th>\n",
              "      <td>video_duration_sec</td>\n",
              "      <td>8.607893e-03</td>\n",
              "    </tr>\n",
              "    <tr>\n",
              "      <th>1</th>\n",
              "      <td>video_view_count</td>\n",
              "      <td>-2.132079e-06</td>\n",
              "    </tr>\n",
              "    <tr>\n",
              "      <th>2</th>\n",
              "      <td>video_share_count</td>\n",
              "      <td>5.930971e-06</td>\n",
              "    </tr>\n",
              "    <tr>\n",
              "      <th>3</th>\n",
              "      <td>video_download_count</td>\n",
              "      <td>-1.099775e-05</td>\n",
              "    </tr>\n",
              "    <tr>\n",
              "      <th>4</th>\n",
              "      <td>video_comment_count</td>\n",
              "      <td>-6.404235e-04</td>\n",
              "    </tr>\n",
              "    <tr>\n",
              "      <th>5</th>\n",
              "      <td>claim_status_opinion</td>\n",
              "      <td>3.908384e-04</td>\n",
              "    </tr>\n",
              "    <tr>\n",
              "      <th>6</th>\n",
              "      <td>author_ban_status_banned</td>\n",
              "      <td>-1.781741e-05</td>\n",
              "    </tr>\n",
              "    <tr>\n",
              "      <th>7</th>\n",
              "      <td>author_ban_status_under review</td>\n",
              "      <td>-9.682447e-07</td>\n",
              "    </tr>\n",
              "  </tbody>\n",
              "</table>\n",
              "</div>"
            ],
            "text/plain": [
              "                          Feature  Log-Odds Coefficient\n",
              "0              video_duration_sec          8.607893e-03\n",
              "1                video_view_count         -2.132079e-06\n",
              "2               video_share_count          5.930971e-06\n",
              "3            video_download_count         -1.099775e-05\n",
              "4             video_comment_count         -6.404235e-04\n",
              "5            claim_status_opinion          3.908384e-04\n",
              "6        author_ban_status_banned         -1.781741e-05\n",
              "7  author_ban_status_under review         -9.682447e-07"
            ]
          },
          "execution_count": 57,
          "metadata": {},
          "output_type": "execute_result"
        }
      ],
      "source": [
        "# Get the feature names from the training data\n",
        "feature_names = X_train_final.columns\n",
        "\n",
        "# Get the model coefficients (log-odds)\n",
        "coefficients = log_clf.coef_[0]\n",
        "\n",
        "# Place into a DataFrame for readability\n",
        "coef_df = pd.DataFrame({\n",
        "    \"Feature\": feature_names,\n",
        "    \"Log-Odds Coefficient\": coefficients\n",
        "})\n",
        "\n",
        "# Display the coefficients\n",
        "coef_df\n",
        "\n"
      ]
    },
    {
      "cell_type": "markdown",
      "metadata": {
        "id": "P6AlDDyhdzmG"
      },
      "source": [
        "### **Task 4d. Conclusion**\n",
        "\n"
      ]
    },
    {
      "cell_type": "markdown",
      "metadata": {
        "id": "BzqJ13WAnt4R"
      },
      "source": [
        "The dataset included several correlated features, which could lead to multicollinearity. To address this, we dropped video_like_count before building the model.\n",
        "\n",
        "The logistic regression model estimated that each additional second in video duration increases the log-odds of the user being verified by approximately 0.009, making it the most relevant feature.\n",
        "\n",
        "Other features, such as video_share_count and video_comment_count, had relatively small coefficients, indicating weak associations with the verified status.\n",
        "\n",
        "The model achieved an accuracy of 65%, with precision of 61% and recall of 84% for verified users. While precision is moderate, the high recall shows the model is effective at identifying verified accounts.\n",
        "\n",
        "Overall, the model had acceptable predictive performance. It demonstrates that video-level features can help estimate the likelihood of verification status, even if most features show only modest influence individually."
      ]
    }
  ],
  "metadata": {
    "colab": {
      "provenance": [],
      "toc_visible": true
    },
    "kernelspec": {
      "display_name": "Python 3 (ipykernel)",
      "language": "python",
      "name": "python3"
    },
    "language_info": {
      "codemirror_mode": {
        "name": "ipython",
        "version": 3
      },
      "file_extension": ".py",
      "mimetype": "text/x-python",
      "name": "python",
      "nbconvert_exporter": "python",
      "pygments_lexer": "ipython3",
      "version": "3.11.4"
    }
  },
  "nbformat": 4,
  "nbformat_minor": 0
}